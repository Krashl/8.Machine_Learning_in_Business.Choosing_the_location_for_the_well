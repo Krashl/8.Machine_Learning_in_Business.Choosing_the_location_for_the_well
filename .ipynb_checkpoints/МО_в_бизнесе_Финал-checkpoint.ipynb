{
 "cells": [
  {
   "cell_type": "markdown",
   "metadata": {},
   "source": [
    "# Выбор локации для скважины"
   ]
  },
  {
   "cell_type": "markdown",
   "metadata": {},
   "source": [
    "Допустим, вы работаете в добывающей компании «ГлавРосГосНефть». Нужно решить, где бурить новую скважину.\n",
    "\n",
    "Вам предоставлены пробы нефти в трёх регионах: в каждом 10 000 месторождений, где измерили качество нефти и объём её запасов. Постройте модель машинного обучения, которая поможет определить регион, где добыча принесёт наибольшую прибыль. Проанализируйте возможную прибыль и риски техникой *Bootstrap.*\n",
    "\n",
    "Шаги для выбора локации:\n",
    "\n",
    "- В избранном регионе ищут месторождения, для каждого определяют значения признаков;\n",
    "- Строят модель и оценивают объём запасов;\n",
    "- Выбирают месторождения с самым высокими оценками значений. Количество месторождений зависит от бюджета компании и стоимости разработки одной скважины;\n",
    "- Прибыль равна суммарной прибыли отобранных месторождений."
   ]
  },
  {
   "cell_type": "markdown",
   "metadata": {},
   "source": [
    "**Цель исследования:** определить регион с максимальной суммарной прибылью скважин.<br>\n",
    "**Предмет исследования:** 3 региона со скважинами.<br>\n",
    "У каждой скважины присутствуют следующие признаки:\n",
    "- **id** — уникальный идентификатор скважины ();\n",
    "- **f0, f1, f2** — признаки точек;\n",
    "- **product** — объём запасов в скважине (тыс. баррелей). **<- целевая переменная**\n",
    "\n",
    "**Задачи для достижения цели:**\n",
    "<ol>\n",
    "  <li>загрузить и подготовить данные;</li>\n",
    "  <li>обучить модель линейной регрессии и проверить её предсказания;</li>\n",
    "  <li>рассчитать прибыль и риски на основе предсказаний;</li>\n",
    "  <li>выбрать наилучший регион для разработки.</li>\n",
    "</ol>"
   ]
  },
  {
   "cell_type": "markdown",
   "metadata": {},
   "source": [
    "## Загрузка и подготовка данных"
   ]
  },
  {
   "cell_type": "markdown",
   "metadata": {},
   "source": [
    "### Загрузка данных"
   ]
  },
  {
   "cell_type": "code",
   "execution_count": 1,
   "metadata": {},
   "outputs": [],
   "source": [
    "# Подгружаем первую библиотеку, необходимую для работы\n",
    "import pandas as pd"
   ]
  },
  {
   "cell_type": "code",
   "execution_count": 2,
   "metadata": {},
   "outputs": [],
   "source": [
    "# Подгружаем данные в переменные из трех разных источников\n",
    "data_0 = pd.read_csv('/datasets/geo_data_0.csv')\n",
    "data_1 = pd.read_csv('/datasets/geo_data_1.csv')\n",
    "data_2 = pd.read_csv('/datasets/geo_data_2.csv')"
   ]
  },
  {
   "cell_type": "code",
   "execution_count": 3,
   "metadata": {},
   "outputs": [
    {
     "name": "stdout",
     "output_type": "stream",
     "text": [
      "<class 'pandas.core.frame.DataFrame'>\n",
      "RangeIndex: 100000 entries, 0 to 99999\n",
      "Data columns (total 5 columns):\n",
      " #   Column   Non-Null Count   Dtype  \n",
      "---  ------   --------------   -----  \n",
      " 0   id       100000 non-null  object \n",
      " 1   f0       100000 non-null  float64\n",
      " 2   f1       100000 non-null  float64\n",
      " 3   f2       100000 non-null  float64\n",
      " 4   product  100000 non-null  float64\n",
      "dtypes: float64(4), object(1)\n",
      "memory usage: 3.8+ MB\n"
     ]
    },
    {
     "data": {
      "text/html": [
       "<div>\n",
       "<style scoped>\n",
       "    .dataframe tbody tr th:only-of-type {\n",
       "        vertical-align: middle;\n",
       "    }\n",
       "\n",
       "    .dataframe tbody tr th {\n",
       "        vertical-align: top;\n",
       "    }\n",
       "\n",
       "    .dataframe thead th {\n",
       "        text-align: right;\n",
       "    }\n",
       "</style>\n",
       "<table border=\"1\" class=\"dataframe\">\n",
       "  <thead>\n",
       "    <tr style=\"text-align: right;\">\n",
       "      <th></th>\n",
       "      <th>id</th>\n",
       "      <th>f0</th>\n",
       "      <th>f1</th>\n",
       "      <th>f2</th>\n",
       "      <th>product</th>\n",
       "    </tr>\n",
       "  </thead>\n",
       "  <tbody>\n",
       "    <tr>\n",
       "      <th>0</th>\n",
       "      <td>txEyH</td>\n",
       "      <td>0.705745</td>\n",
       "      <td>-0.497823</td>\n",
       "      <td>1.221170</td>\n",
       "      <td>105.280062</td>\n",
       "    </tr>\n",
       "    <tr>\n",
       "      <th>1</th>\n",
       "      <td>2acmU</td>\n",
       "      <td>1.334711</td>\n",
       "      <td>-0.340164</td>\n",
       "      <td>4.365080</td>\n",
       "      <td>73.037750</td>\n",
       "    </tr>\n",
       "    <tr>\n",
       "      <th>2</th>\n",
       "      <td>409Wp</td>\n",
       "      <td>1.022732</td>\n",
       "      <td>0.151990</td>\n",
       "      <td>1.419926</td>\n",
       "      <td>85.265647</td>\n",
       "    </tr>\n",
       "    <tr>\n",
       "      <th>3</th>\n",
       "      <td>iJLyR</td>\n",
       "      <td>-0.032172</td>\n",
       "      <td>0.139033</td>\n",
       "      <td>2.978566</td>\n",
       "      <td>168.620776</td>\n",
       "    </tr>\n",
       "    <tr>\n",
       "      <th>4</th>\n",
       "      <td>Xdl7t</td>\n",
       "      <td>1.988431</td>\n",
       "      <td>0.155413</td>\n",
       "      <td>4.751769</td>\n",
       "      <td>154.036647</td>\n",
       "    </tr>\n",
       "  </tbody>\n",
       "</table>\n",
       "</div>"
      ],
      "text/plain": [
       "      id        f0        f1        f2     product\n",
       "0  txEyH  0.705745 -0.497823  1.221170  105.280062\n",
       "1  2acmU  1.334711 -0.340164  4.365080   73.037750\n",
       "2  409Wp  1.022732  0.151990  1.419926   85.265647\n",
       "3  iJLyR -0.032172  0.139033  2.978566  168.620776\n",
       "4  Xdl7t  1.988431  0.155413  4.751769  154.036647"
      ]
     },
     "execution_count": 3,
     "metadata": {},
     "output_type": "execute_result"
    }
   ],
   "source": [
    "# Выведем базовую информацию об одном из фреймов данных\n",
    "data_0.info()\n",
    "# Выведем первые 5 строк\n",
    "data_0.head()"
   ]
  },
  {
   "cell_type": "markdown",
   "metadata": {},
   "source": [
    "Данные загружены. Проблем с пропусками, типами и названиями столбцов - нет.<br> Посмотрим, как распределены значения в **3х** регионах."
   ]
  },
  {
   "cell_type": "markdown",
   "metadata": {},
   "source": [
    "### Первичный анализ"
   ]
  },
  {
   "cell_type": "code",
   "execution_count": 4,
   "metadata": {},
   "outputs": [],
   "source": [
    "# Библиотека для красивых графиков\n",
    "import seaborn as sns\n",
    "# Библиотека для более тонкой настройки графиков\n",
    "import matplotlib.pyplot as plt\n",
    "# Делаем красивый стиль\n",
    "sns.set_style(\"darkgrid\")"
   ]
  },
  {
   "cell_type": "code",
   "execution_count": 5,
   "metadata": {},
   "outputs": [
    {
     "data": {
      "image/png": "[encoded data removed]",
      "text/plain": [
       "<Figure size 1152x360 with 1 Axes>"
      ]
     },
     "metadata": {},
     "output_type": "display_data"
    }
   ],
   "source": [
    "# Установите размер графика\n",
    "plt.rcParams['figure.figsize'] = 16,5\n",
    "\n",
    "# Создаем гистограмму для каждого региона\n",
    "sns.histplot(data=data_0, x=\"product\", element=\"step\", color=\"blue\", label=\"Регион №0\")\n",
    "sns.histplot(data=data_1, x=\"product\", element=\"step\", color=\"green\", label=\"Регион №1\")\n",
    "sns.histplot(data=data_2, x=\"product\", element=\"step\", color=\"red\", label=\"Регион №2\")\n",
    "\n",
    "# Добавляем легенду на график\n",
    "plt.legend()\n",
    "\n",
    "# Выводим график\n",
    "plt.show()"
   ]
  },
  {
   "cell_type": "markdown",
   "metadata": {},
   "source": [
    "На гистограмме видно, что регион 0 и 2 распределены схожим образом, в то время как регион 1 сильно отличается. У него очень много одинаковых точек с одинаковым объем продукции, это выражается на графике как высокие столбцы.<br>\n",
    "Проверим это подсчитав количество уникальных значений:"
   ]
  },
  {
   "cell_type": "code",
   "execution_count": 6,
   "metadata": {},
   "outputs": [
    {
     "data": {
      "text/plain": [
       "53.906522     8472\n",
       "26.953261     8468\n",
       "84.038886     8431\n",
       "57.085625     8390\n",
       "3.179103      8337\n",
       "80.859783     8320\n",
       "30.132364     8306\n",
       "134.766305    8304\n",
       "110.992147    8303\n",
       "0.000000      8235\n",
       "137.945408    8233\n",
       "107.813044    8201\n",
       "Name: product, dtype: int64"
      ]
     },
     "execution_count": 6,
     "metadata": {},
     "output_type": "execute_result"
    }
   ],
   "source": [
    "# Посмотрим на уникальные значения в регионе 1\n",
    "data_1['product'].value_counts()"
   ]
  },
  {
   "cell_type": "markdown",
   "metadata": {},
   "source": [
    "Всего **12** уникальных значений. То, что мы это обнаружили, пригодится нам в дальнейшем. А пока посмотрим на числовые статистики **3х** регионов:"
   ]
  },
  {
   "cell_type": "code",
   "execution_count": 7,
   "metadata": {},
   "outputs": [
    {
     "data": {
      "text/html": [
       "<div>\n",
       "<style scoped>\n",
       "    .dataframe tbody tr th:only-of-type {\n",
       "        vertical-align: middle;\n",
       "    }\n",
       "\n",
       "    .dataframe tbody tr th {\n",
       "        vertical-align: top;\n",
       "    }\n",
       "\n",
       "    .dataframe thead th {\n",
       "        text-align: right;\n",
       "    }\n",
       "</style>\n",
       "<table border=\"1\" class=\"dataframe\">\n",
       "  <thead>\n",
       "    <tr style=\"text-align: right;\">\n",
       "      <th></th>\n",
       "      <th>region_0</th>\n",
       "      <th>region_1</th>\n",
       "      <th>region_2</th>\n",
       "    </tr>\n",
       "  </thead>\n",
       "  <tbody>\n",
       "    <tr>\n",
       "      <th>count</th>\n",
       "      <td>100000.000000</td>\n",
       "      <td>100000.000000</td>\n",
       "      <td>100000.000000</td>\n",
       "    </tr>\n",
       "    <tr>\n",
       "      <th>mean</th>\n",
       "      <td>92.500000</td>\n",
       "      <td>68.825000</td>\n",
       "      <td>95.000000</td>\n",
       "    </tr>\n",
       "    <tr>\n",
       "      <th>std</th>\n",
       "      <td>44.288691</td>\n",
       "      <td>45.944423</td>\n",
       "      <td>44.749921</td>\n",
       "    </tr>\n",
       "    <tr>\n",
       "      <th>min</th>\n",
       "      <td>0.000000</td>\n",
       "      <td>0.000000</td>\n",
       "      <td>0.000000</td>\n",
       "    </tr>\n",
       "    <tr>\n",
       "      <th>25%</th>\n",
       "      <td>56.497507</td>\n",
       "      <td>26.953261</td>\n",
       "      <td>59.450441</td>\n",
       "    </tr>\n",
       "    <tr>\n",
       "      <th>50%</th>\n",
       "      <td>91.849972</td>\n",
       "      <td>57.085625</td>\n",
       "      <td>94.925613</td>\n",
       "    </tr>\n",
       "    <tr>\n",
       "      <th>75%</th>\n",
       "      <td>128.564089</td>\n",
       "      <td>107.813044</td>\n",
       "      <td>130.595027</td>\n",
       "    </tr>\n",
       "    <tr>\n",
       "      <th>max</th>\n",
       "      <td>185.364347</td>\n",
       "      <td>137.945408</td>\n",
       "      <td>190.029838</td>\n",
       "    </tr>\n",
       "  </tbody>\n",
       "</table>\n",
       "</div>"
      ],
      "text/plain": [
       "            region_0       region_1       region_2\n",
       "count  100000.000000  100000.000000  100000.000000\n",
       "mean       92.500000      68.825000      95.000000\n",
       "std        44.288691      45.944423      44.749921\n",
       "min         0.000000       0.000000       0.000000\n",
       "25%        56.497507      26.953261      59.450441\n",
       "50%        91.849972      57.085625      94.925613\n",
       "75%       128.564089     107.813044     130.595027\n",
       "max       185.364347     137.945408     190.029838"
      ]
     },
     "execution_count": 7,
     "metadata": {},
     "output_type": "execute_result"
    }
   ],
   "source": [
    "# Объединяем статистику по регионам в единый датафрейм\n",
    "stats = pd.concat([data_0['product'].describe(), \n",
    "           data_1['product'].describe(),\n",
    "           data_2['product'].describe()], \n",
    "          axis=1)\n",
    "# Переименовываем столбцы\n",
    "stats.columns = ['region_0', 'region_1', 'region_2']\n",
    "# Выводим на экран\n",
    "stats"
   ]
  },
  {
   "cell_type": "markdown",
   "metadata": {},
   "source": [
    "Как и на гистограмме, **регион 0** и **2** имеют довольно близкие значения. Сильно от них отстает **регион 1** – у него самое низкое среднее, стандартная ошибка больше остальных, квартили и максимальные значения тоже отстают.<br>\n",
    "Предполагаю, что это будет самый невыгодный регион. А самый лучше, вероятнее всего, **регион 2**, т.к. у него самые высокие показатели."
   ]
  },
  {
   "cell_type": "markdown",
   "metadata": {},
   "source": [
    "### Подготовка данных"
   ]
  },
  {
   "cell_type": "markdown",
   "metadata": {},
   "source": [
    "#### Разделение на цель и признаки "
   ]
  },
  {
   "cell_type": "markdown",
   "metadata": {},
   "source": [
    "Первичный анализ был проведен, поэтому вернемся к обработке данных. Первое, что следует сделать, обозначить признаки и цель.<br>\n",
    "Помимо признаков **f0,f1,f2**, у нас также есть **id**.<br>\n",
    "Признак **ID** был проверен. В нем могут встречаться повторяющиеся значения, но их очень мало, почти **99%** - уникальные значения.<br>Для нашего исследования и обучения модели они нам не пригодятся, поэтому не будем включать **id** в список признаков."
   ]
  },
  {
   "cell_type": "code",
   "execution_count": 8,
   "metadata": {},
   "outputs": [],
   "source": [
    "# Разделяем данные на цель и признаки\n",
    "# Список признаков\n",
    "X = data_0.drop(['product', 'id'], axis=1).columns\n",
    "# Целевая переменная\n",
    "y = 'product'"
   ]
  },
  {
   "cell_type": "markdown",
   "metadata": {},
   "source": [
    "#### Разделение данных на обучающую и валидационную"
   ]
  },
  {
   "cell_type": "code",
   "execution_count": 9,
   "metadata": {},
   "outputs": [],
   "source": [
    "# Импортируем функцию для разделения выборки\n",
    "from sklearn.model_selection import train_test_split"
   ]
  },
  {
   "cell_type": "code",
   "execution_count": 10,
   "metadata": {},
   "outputs": [],
   "source": [
    "# Получаем обучающую и валидационную выборку для трех наборов данных\n",
    "data_0_train, data_0_valid = train_test_split(data_0, test_size=.25, random_state=777)\n",
    "data_1_train, data_1_valid = train_test_split(data_1, test_size=.25, random_state=777)\n",
    "data_2_train, data_2_valid = train_test_split(data_2, test_size=.25, random_state=777)"
   ]
  },
  {
   "cell_type": "markdown",
   "metadata": {},
   "source": [
    "На этом мы завершили подготовку данных. Теперь перейдем к этапу обучения модели.<br>\n",
    "<br>\n",
    "*Конкретно для моделей **линейной регрессии** и **catboost**, масштабирование признаков было **не обязательным** этапом.<br>\n",
    "Была проведена проверка: в модель подавались как отмасштабированный данные, так и в обычном виде.<br>\n",
    "Результаты были полностью **идентичны**. Скорее всего, методы масштабирования уже вшиты в эти алгоритмы, или они просто хорошо работают и без этого.*"
   ]
  },
  {
   "cell_type": "markdown",
   "metadata": {},
   "source": [
    "## Обучение и проверка модели"
   ]
  },
  {
   "cell_type": "markdown",
   "metadata": {},
   "source": [
    "### Обучение модели и предсказание"
   ]
  },
  {
   "cell_type": "markdown",
   "metadata": {},
   "source": [
    "По условиям задачи, нам нужно использовать модель линейной регрессии.<br>\n",
    "Из всех известных мне моделей (кроме dummy classifier), она является самой стабильной.<br>\n",
    "Приведу доказательства ниже:"
   ]
  },
  {
   "cell_type": "markdown",
   "metadata": {},
   "source": [
    "Сделаем перебор гиперпараметров по сетке:"
   ]
  },
  {
   "cell_type": "code",
   "execution_count": 11,
   "metadata": {},
   "outputs": [],
   "source": [
    "# Импортируем структуру данных логистической регрессии\n",
    "from sklearn.linear_model import LinearRegression\n",
    "# Импортируем функции для измерения метрик\n",
    "from sklearn.metrics import mean_absolute_error, r2_score, mean_squared_error\n",
    "# Импортируем инструмент гридсерч для поиска лучших г-п\n",
    "from sklearn.model_selection import GridSearchCV"
   ]
  },
  {
   "cell_type": "code",
   "execution_count": 12,
   "metadata": {},
   "outputs": [
    {
     "name": "stdout",
     "output_type": "stream",
     "text": [
      "Лучшие гиперпараметры: {'copy_X': True, 'fit_intercept': True, 'n_jobs': -1, 'normalize': True}\n",
      "RMSE score: 37.99219303094202\n"
     ]
    }
   ],
   "source": [
    "# Определим самые значимые гиперпараметры модели\n",
    "parameters = {'fit_intercept':[True,False], 'normalize':[True,False], 'copy_X':[True,False], 'n_jobs':[-1, 1, 2]}\n",
    "\n",
    "# Создадим модель линейной регрессии\n",
    "model_0 = LinearRegression()\n",
    "\n",
    "# Создадим Гридсерч\n",
    "grid_search = GridSearchCV(estimator=model_0, param_grid=parameters, scoring='neg_root_mean_squared_error', cv=5)\n",
    "\n",
    "# Обучаем модель\n",
    "grid_search.fit(data_0_train[X], data_0_train[y])\n",
    "\n",
    "# Выведите лучшие гиперпараметры\n",
    "print('Лучшие гиперпараметры:', grid_search.best_params_)\n",
    "\n",
    "# Получаем лучшую модель\n",
    "best_model = grid_search.best_estimator_\n",
    "\n",
    "# Делайте предсказания, используя лучшую модель\n",
    "predict_0 = best_model.predict(data_0_valid[X])\n",
    "\n",
    "# Выведите результат в RMSE\n",
    "print('RMSE score:', mean_squared_error(data_0_valid[y], predict_0)**0.5)"
   ]
  },
  {
   "cell_type": "markdown",
   "metadata": {},
   "source": [
    "Лучший результат показала модель с такими гиперпараметрами.\n",
    "Метрика **RMSE** показала **37.99**.\n",
    "<br>Попробуем обучить модель без гридсерча."
   ]
  },
  {
   "cell_type": "code",
   "execution_count": 13,
   "metadata": {},
   "outputs": [
    {
     "name": "stdout",
     "output_type": "stream",
     "text": [
      "RMSE score: 37.99219303094202\n"
     ]
    }
   ],
   "source": [
    "# Создадим модель линейной регрессии\n",
    "model_0 = LinearRegression()\n",
    "# Обучаем модель\n",
    "model_0.fit(data_0_train[X], data_0_train[y])\n",
    "# Делайте предсказания\n",
    "predict_0 = pd.Series(model_0.predict(data_0_valid[X]))\n",
    "# Выведите результат в RMSE\n",
    "print('RMSE score:', mean_squared_error(data_0_valid[y], predict_0)**0.5)"
   ]
  },
  {
   "cell_type": "markdown",
   "metadata": {},
   "source": [
    "Видим, что модель по умолчанию выдаёт точно такой-же результат, так что в данном случае перебор гиппараметров не нужен.<br> Обучим модели для других регионов:"
   ]
  },
  {
   "cell_type": "code",
   "execution_count": 14,
   "metadata": {},
   "outputs": [
    {
     "name": "stderr",
     "output_type": "stream",
     "text": [
      "/tmp/ipykernel_174/1740844566.py:4: SettingWithCopyWarning: \n",
      "A value is trying to be set on a copy of a slice from a DataFrame.\n",
      "Try using .loc[row_indexer,col_indexer] = value instead\n",
      "\n",
      "See the caveats in the documentation: https://pandas.pydata.org/pandas-docs/stable/user_guide/indexing.html#returning-a-view-versus-a-copy\n",
      "  data_0_valid['predict'] = model_0.predict(data_0_valid[X])\n",
      "/tmp/ipykernel_174/1740844566.py:9: SettingWithCopyWarning: \n",
      "A value is trying to be set on a copy of a slice from a DataFrame.\n",
      "Try using .loc[row_indexer,col_indexer] = value instead\n",
      "\n",
      "See the caveats in the documentation: https://pandas.pydata.org/pandas-docs/stable/user_guide/indexing.html#returning-a-view-versus-a-copy\n",
      "  data_1_valid['predict'] = model_1.predict(data_1_valid[X])\n",
      "/tmp/ipykernel_174/1740844566.py:14: SettingWithCopyWarning: \n",
      "A value is trying to be set on a copy of a slice from a DataFrame.\n",
      "Try using .loc[row_indexer,col_indexer] = value instead\n",
      "\n",
      "See the caveats in the documentation: https://pandas.pydata.org/pandas-docs/stable/user_guide/indexing.html#returning-a-view-versus-a-copy\n",
      "  data_2_valid['predict'] = model_2.predict(data_2_valid[X])\n"
     ]
    }
   ],
   "source": [
    "# ------ регион 0\n",
    "model_0 = LinearRegression()\n",
    "model_0.fit(data_0_train[X], data_0_train[y])\n",
    "data_0_valid['predict'] = model_0.predict(data_0_valid[X])\n",
    "\n",
    "# ------ регион 1\n",
    "model_1 = LinearRegression()\n",
    "model_1.fit(data_1_train[X], data_1_train[y])\n",
    "data_1_valid['predict'] = model_1.predict(data_1_valid[X]) \n",
    "\n",
    "# ------ регион 2\n",
    "model_2 = LinearRegression()\n",
    "model_2.fit(data_2_train[X], data_2_train[y])\n",
    "data_2_valid['predict'] = model_2.predict(data_2_valid[X])"
   ]
  },
  {
   "cell_type": "markdown",
   "metadata": {},
   "source": [
    "Модели были обучение и по ним были сделаны предсказания.<br>"
   ]
  },
  {
   "cell_type": "markdown",
   "metadata": {},
   "source": [
    "### Проверка результатов предсказания"
   ]
  },
  {
   "cell_type": "markdown",
   "metadata": {},
   "source": [
    "Выведем все полученные результаты, для их анализа."
   ]
  },
  {
   "cell_type": "code",
   "execution_count": 15,
   "metadata": {},
   "outputs": [
    {
     "data": {
      "text/html": [
       "<div>\n",
       "<style scoped>\n",
       "    .dataframe tbody tr th:only-of-type {\n",
       "        vertical-align: middle;\n",
       "    }\n",
       "\n",
       "    .dataframe tbody tr th {\n",
       "        vertical-align: top;\n",
       "    }\n",
       "\n",
       "    .dataframe thead th {\n",
       "        text-align: right;\n",
       "    }\n",
       "</style>\n",
       "<table border=\"1\" class=\"dataframe\">\n",
       "  <thead>\n",
       "    <tr style=\"text-align: right;\">\n",
       "      <th></th>\n",
       "      <th>RMSE</th>\n",
       "      <th>true_mean</th>\n",
       "      <th>predict_mean</th>\n",
       "    </tr>\n",
       "  </thead>\n",
       "  <tbody>\n",
       "    <tr>\n",
       "      <th>Регион 0</th>\n",
       "      <td>37.992193</td>\n",
       "      <td>92.902261</td>\n",
       "      <td>92.716753</td>\n",
       "    </tr>\n",
       "    <tr>\n",
       "      <th>Регион 1</th>\n",
       "      <td>0.891151</td>\n",
       "      <td>69.751424</td>\n",
       "      <td>69.750325</td>\n",
       "    </tr>\n",
       "    <tr>\n",
       "      <th>Регион 2</th>\n",
       "      <td>40.230187</td>\n",
       "      <td>94.861321</td>\n",
       "      <td>94.977884</td>\n",
       "    </tr>\n",
       "  </tbody>\n",
       "</table>\n",
       "</div>"
      ],
      "text/plain": [
       "               RMSE  true_mean  predict_mean\n",
       "Регион 0  37.992193  92.902261     92.716753\n",
       "Регион 1   0.891151  69.751424     69.750325\n",
       "Регион 2  40.230187  94.861321     94.977884"
      ]
     },
     "execution_count": 15,
     "metadata": {},
     "output_type": "execute_result"
    }
   ],
   "source": [
    "# Создаем таблицу для хранения показателей предсказаний\n",
    "prediction_characteristics = pd.DataFrame(columns=['RMSE','true_mean', 'predict_mean'])\n",
    "# Добавляем в таблицу все показатели для региона 0\n",
    "prediction_characteristics.loc['Регион 0'] = [mean_squared_error(data_0_valid[y], data_0_valid['predict'])**0.5,\n",
    "                                              data_0_valid[y].mean(), data_0_valid['predict'].mean()]\n",
    "# для региона 1\n",
    "prediction_characteristics.loc['Регион 1'] = [mean_squared_error(data_1_valid[y], data_1_valid['predict'])**0.5,\n",
    "                                              data_1_valid[y].mean(), data_1_valid['predict'].mean()]\n",
    "# для региона 2\n",
    "prediction_characteristics.loc['Регион 2'] = [mean_squared_error(data_2_valid[y], data_2_valid['predict'])**0.5,\n",
    "                                              data_2_valid[y].mean(), data_2_valid['predict'].mean()]\n",
    "# Выводим на экран\n",
    "prediction_characteristics"
   ]
  },
  {
   "cell_type": "markdown",
   "metadata": {},
   "source": [
    "Как видно по метрике **RMSE**, самыми близкими к нулю являются предсказания для **региона 1** - 0.019.<br>\n",
    "Это означает, что модель точнее всего предсказывает данные в этом регионе.<br>\n",
    "Это не удивительно, т.к. в этом регионе очень мало уникальных значений, из-за чего прогнозы становятся больше похожи на классификацию, чем на регрессию.<br>\n",
    "По среднему запасу сырья, все модели ответили достаточно близко к исходным значениями."
   ]
  },
  {
   "cell_type": "markdown",
   "metadata": {},
   "source": [
    "Предсказания у нас есть, значит теперь следует проверить, на сколько наша модель пригодна для реального использования."
   ]
  },
  {
   "cell_type": "markdown",
   "metadata": {},
   "source": [
    "## Подготовка к расчёту прибыли"
   ]
  },
  {
   "cell_type": "markdown",
   "metadata": {},
   "source": [
    "### Подготовка ключевых значений"
   ]
  },
  {
   "cell_type": "markdown",
   "metadata": {},
   "source": [
    "Создадим константы, которые будем использовать для расчёта:"
   ]
  },
  {
   "cell_type": "code",
   "execution_count": 16,
   "metadata": {},
   "outputs": [],
   "source": [
    "# Сколько всего скважин рассматривается\n",
    "TOTAL_NUM_POINTS = 500\n",
    "# Сколько из рассмотренных выбирается для разработки\n",
    "BEST_NUM_POINTS = 200\n",
    "# Бюджет на разработку\n",
    "BUDGET = 10_000_000_000\n",
    "# Цена за одну тысячу баррелей (за единицу продукта)\n",
    "PRICE_1K_BARRELS = 450_000\n",
    "# Вероятность убытков, меньше которой не должен быть регион\n",
    "PROB_OF_LOSSES = 0.025"
   ]
  },
  {
   "cell_type": "markdown",
   "metadata": {},
   "source": [
    "### Расчет объема сырья для безубыточной разработки"
   ]
  },
  {
   "cell_type": "markdown",
   "metadata": {},
   "source": [
    "Т.к. в условии не было информации о различных операционных расходах, то будем считать, что безубыточное производство — это то, где общая сумма продажи сырья, как минимум равно бюджету:<br>\n",
    "**BUDGET = X * BEST_NUM_POINTS * PRICE_1K_BARRELS**<br>\n",
    "Где **X** – это количество сырья.<br>\n",
    "Меняем формулу, чтобы найти **X**:<br>\n",
    "**X = BUDGET / (BEST_NUM_POINTS * PRICE_1K_BARRELS)**"
   ]
  },
  {
   "cell_type": "code",
   "execution_count": 17,
   "metadata": {},
   "outputs": [
    {
     "name": "stdout",
     "output_type": "stream",
     "text": [
      "Количество сырья в каждой точке: 111.11\n"
     ]
    }
   ],
   "source": [
    "count_per_point = BUDGET / (BEST_NUM_POINTS * PRICE_1K_BARRELS)\n",
    "print(\"Количество сырья в каждой точке:\", round(count_per_point, 2))"
   ]
  },
  {
   "cell_type": "markdown",
   "metadata": {},
   "source": [
    "Такое количество единиц сырья должно быть в регионе, если мы берем **200** точек.<br>\n",
    "Но вряд ли будет такое, что во всех скважинах одинаковое количество сырья, поэтому найдем, сколько минимум должно быть общее количество единиц с **200** точек:"
   ]
  },
  {
   "cell_type": "code",
   "execution_count": 18,
   "metadata": {},
   "outputs": [
    {
     "name": "stdout",
     "output_type": "stream",
     "text": [
      "Суммарное количество сырья для региона: 22222.22\n"
     ]
    }
   ],
   "source": [
    "count_per_200_points = count_per_point * BEST_NUM_POINTS\n",
    "print(\"Суммарное количество сырья для региона:\", round(count_per_200_points, 2))"
   ]
  },
  {
   "cell_type": "markdown",
   "metadata": {},
   "source": [
    "### Сравнение объемов сырья"
   ]
  },
  {
   "cell_type": "markdown",
   "metadata": {},
   "source": [
    "Сравним наши предсказания и реальные показатели с минимальным количеством сырья.<br>\n",
    "Для этого выведем таблицу, которую мы делали ранее:"
   ]
  },
  {
   "cell_type": "code",
   "execution_count": 19,
   "metadata": {},
   "outputs": [
    {
     "data": {
      "text/html": [
       "<div>\n",
       "<style scoped>\n",
       "    .dataframe tbody tr th:only-of-type {\n",
       "        vertical-align: middle;\n",
       "    }\n",
       "\n",
       "    .dataframe tbody tr th {\n",
       "        vertical-align: top;\n",
       "    }\n",
       "\n",
       "    .dataframe thead th {\n",
       "        text-align: right;\n",
       "    }\n",
       "</style>\n",
       "<table border=\"1\" class=\"dataframe\">\n",
       "  <thead>\n",
       "    <tr style=\"text-align: right;\">\n",
       "      <th></th>\n",
       "      <th>true_mean</th>\n",
       "      <th>predict_mean</th>\n",
       "    </tr>\n",
       "  </thead>\n",
       "  <tbody>\n",
       "    <tr>\n",
       "      <th>Регион 0</th>\n",
       "      <td>92.902261</td>\n",
       "      <td>92.716753</td>\n",
       "    </tr>\n",
       "    <tr>\n",
       "      <th>Регион 1</th>\n",
       "      <td>69.751424</td>\n",
       "      <td>69.750325</td>\n",
       "    </tr>\n",
       "    <tr>\n",
       "      <th>Регион 2</th>\n",
       "      <td>94.861321</td>\n",
       "      <td>94.977884</td>\n",
       "    </tr>\n",
       "  </tbody>\n",
       "</table>\n",
       "</div>"
      ],
      "text/plain": [
       "          true_mean  predict_mean\n",
       "Регион 0  92.902261     92.716753\n",
       "Регион 1  69.751424     69.750325\n",
       "Регион 2  94.861321     94.977884"
      ]
     },
     "execution_count": 19,
     "metadata": {},
     "output_type": "execute_result"
    }
   ],
   "source": [
    "# Выводим характеристики на экран\n",
    "prediction_characteristics[['true_mean', 'predict_mean']]"
   ]
  },
  {
   "cell_type": "markdown",
   "metadata": {},
   "source": [
    "Видим, что среднее у всех регионов меньше, чем минимальное количество для каждой скважины (**111.11**).<br>\n",
    "Но как мы знаем, среднее это всего **лишь оценка** всей совокупности.<br>\n",
    "Вполне может быть такое, что в выборке нам попадется много скважин с большим объемом продукцией. Попробуем сравнить со случайной выборкой в **200** элементов и посчитаем сумму:"
   ]
  },
  {
   "cell_type": "code",
   "execution_count": 20,
   "metadata": {},
   "outputs": [
    {
     "data": {
      "text/html": [
       "<div>\n",
       "<style scoped>\n",
       "    .dataframe tbody tr th:only-of-type {\n",
       "        vertical-align: middle;\n",
       "    }\n",
       "\n",
       "    .dataframe tbody tr th {\n",
       "        vertical-align: top;\n",
       "    }\n",
       "\n",
       "    .dataframe thead th {\n",
       "        text-align: right;\n",
       "    }\n",
       "</style>\n",
       "<table border=\"1\" class=\"dataframe\">\n",
       "  <thead>\n",
       "    <tr style=\"text-align: right;\">\n",
       "      <th></th>\n",
       "      <th>true_sum_200</th>\n",
       "      <th>predict_sum_200</th>\n",
       "    </tr>\n",
       "  </thead>\n",
       "  <tbody>\n",
       "    <tr>\n",
       "      <th>0</th>\n",
       "      <td>18898.658915</td>\n",
       "      <td>18519.610119</td>\n",
       "    </tr>\n",
       "    <tr>\n",
       "      <th>1</th>\n",
       "      <td>13456.864791</td>\n",
       "      <td>13444.385692</td>\n",
       "    </tr>\n",
       "    <tr>\n",
       "      <th>2</th>\n",
       "      <td>19602.080591</td>\n",
       "      <td>18927.405939</td>\n",
       "    </tr>\n",
       "  </tbody>\n",
       "</table>\n",
       "</div>"
      ],
      "text/plain": [
       "   true_sum_200  predict_sum_200\n",
       "0  18898.658915     18519.610119\n",
       "1  13456.864791     13444.385692\n",
       "2  19602.080591     18927.405939"
      ]
     },
     "execution_count": 20,
     "metadata": {},
     "output_type": "execute_result"
    }
   ],
   "source": [
    "# Возьмем случайным образом 200 записей и посчитаем их реальную и предсказанную сумму продукции.\n",
    "# Сгруппируем в единый фрейм данных для удобного просмотра\n",
    "(data_0_valid.sample(200, random_state=777, replace=True)[['product','predict']].sum().to_frame().T\n",
    " .append(data_1_valid.sample(200, random_state=777, replace=True)[['product','predict']].sum().to_frame().T)\n",
    " .append(data_2_valid.sample(200, random_state=777, replace=True)[['product','predict']].sum().to_frame().T)\n",
    " .reset_index(drop=True).rename(columns={'product':'true_sum_200', 'predict':'predict_sum_200'}))"
   ]
  },
  {
   "cell_type": "markdown",
   "metadata": {},
   "source": [
    "Как мы выяснили из прошлых расчетов, для отсутствия убытка нужно **минимум 22_222** единиц продукции.<br>\n",
    "В случайно выборке, суммарно было найдено меньше этого, но могло быть и такое что нам просто не повезло,<br>\n",
    "поэтому следует провести анализ рисков с помощью **bootstrap**.\n",
    "<br>\n",
    "<br>\n",
    "Нам необходимо выяснить какой процент убытка для каждого региона, а также найти лучший, поэтому продолжаем исследование."
   ]
  },
  {
   "cell_type": "markdown",
   "metadata": {},
   "source": [
    "## Расчёт прибыли и рисков "
   ]
  },
  {
   "cell_type": "markdown",
   "metadata": {},
   "source": [
    "### Разработка функции для расчёта прибыли"
   ]
  },
  {
   "cell_type": "markdown",
   "metadata": {},
   "source": [
    "Разработаем функцию, которая будет рассчитывать нам прибыль:"
   ]
  },
  {
   "cell_type": "code",
   "execution_count": 21,
   "metadata": {},
   "outputs": [],
   "source": [
    "# Функция для расчета прибыли\n",
    "def calculate_profit(data):\n",
    "    '''\n",
    "    Рассчитывает прибыль для выборки. Ищет лучшие точки по предсказаниям, а сумму считает по реальным данным.\n",
    "    В функции используется глобальная переменная PRICE_1K_BARRELS – хранит в себе цену за единицу продукции\n",
    "    BEST_NUM_POINTS – количество лучших точек, по которым будет считаться прибыль\n",
    "            Параметры:\n",
    "                    data (DataFrame): Таблица с данными, в которых есть столбец product \n",
    "                        – реальный объем продукта и predict – предсказанное количество.\n",
    "    '''\n",
    "    # Делаем отбор лучших точек. Сортируем по количеству предсказанной продукции и берем первые n выборок\n",
    "    best_points = data.sort_values(by='predict', ascending=False).head(BEST_NUM_POINTS)\n",
    "    # Возвращаем сумму реальных объемов продукции, умноженную на единицу продукта\n",
    "    return best_points['product'].sum()*PRICE_1K_BARRELS"
   ]
  },
  {
   "cell_type": "markdown",
   "metadata": {},
   "source": [
    "### Поиск распределения прибыли техникой Bootstrap"
   ]
  },
  {
   "cell_type": "markdown",
   "metadata": {},
   "source": [
    "Нам предстоит выполнить процедуру bootstrap для получения распределения прибыли.<br>\n",
    "Чтобы не дублировать код, разработаем функцию для этих целей:"
   ]
  },
  {
   "cell_type": "code",
   "execution_count": 22,
   "metadata": {},
   "outputs": [],
   "source": [
    "# Импортируем объект для фиксированного рандома в итерациях цикла \n",
    "from numpy.random import RandomState"
   ]
  },
  {
   "cell_type": "code",
   "execution_count": 23,
   "metadata": {},
   "outputs": [],
   "source": [
    "# Функция для поиска распределения\n",
    "def get_profit_distribution(data, bootstrap_n, random_sate=None):\n",
    "    '''\n",
    "    Функция для получения распределения техникой bootstrap.\n",
    "    В функции используется глобальная переменная TOTAL_NUM_POINTS – количество рассматриваемых выборок.\n",
    "            Параметры:\n",
    "                    data (DataFrame): Таблица с данными, в которых есть столбец product \n",
    "                        – реальный объем продукта и predict – предсказанное количество.\n",
    "                    bootstrap_n (int): Количество итераций bootstrap.\n",
    "                    random_sate (): Значение случайности.\n",
    "    '''\n",
    "    # Создаем экземпляр объекта случайности\n",
    "    state = RandomState(random_sate) \n",
    "    # Создаем пустой массив, в котором будет храниться распределение   \n",
    "    distribution = []\n",
    "    # Проходит цикл по количество заданному в параметрах функции  \n",
    "    for i in range(bootstrap_n):\n",
    "        # Рассчитываем прибыль и сохраняем значение в массив\n",
    "        distribution.append(calculate_profit(data.sample(TOTAL_NUM_POINTS, replace=True, random_state=state)))\n",
    "    # Возвращаем полученные данные с вычетом бюджета\n",
    "    return pd.Series(distribution) - BUDGET"
   ]
  },
  {
   "cell_type": "code",
   "execution_count": 24,
   "metadata": {},
   "outputs": [],
   "source": [
    "# Найдем распределение для каждого региона\n",
    "# для региона 1\n",
    "distribution_0 = get_profit_distribution(data_0_valid, 1000, 777)\n",
    "# для региона 2\n",
    "distribution_1 = get_profit_distribution(data_1_valid, 1000, 777)\n",
    "# для региона 3\n",
    "distribution_2 = get_profit_distribution(data_2_valid, 1000, 777)"
   ]
  },
  {
   "cell_type": "markdown",
   "metadata": {},
   "source": [
    "Посмотрим на распределите регионов с помощью гистограммы:"
   ]
  },
  {
   "cell_type": "code",
   "execution_count": 25,
   "metadata": {},
   "outputs": [
    {
     "data": {
      "image/png": "[encoded data removed]",
      "text/plain": [
       "<Figure size 1224x144 with 1 Axes>"
      ]
     },
     "metadata": {},
     "output_type": "display_data"
    }
   ],
   "source": [
    "# Выводим гистограмму распределения прибыли в регионе 0\n",
    "ax = distribution_0.hist(bins=100, figsize=(17,2), color='blue')\n",
    "# Выводим заголовок таблицы\n",
    "ax.set_title('Распределение прибыли в регионе 0', fontsize = 20)\n",
    "# Выводим подпись оси X\n",
    "ax.set_xlabel('Прибыль', fontsize = 15)\n",
    "# Выводим подпись оси Y\n",
    "ax.set_ylabel('Количество', fontsize = 15);"
   ]
  },
  {
   "cell_type": "code",
   "execution_count": 26,
   "metadata": {},
   "outputs": [
    {
     "data": {
      "image/png": "[encoded data removed]",
      "text/plain": [
       "<Figure size 1224x144 with 1 Axes>"
      ]
     },
     "metadata": {},
     "output_type": "display_data"
    }
   ],
   "source": [
    "# Выводим гистограмму распределения прибыли в регионе 1\n",
    "ax = distribution_1.hist(bins=100, figsize=(17,2), color='green')\n",
    "ax.set_title('Распределение прибыли в регионе 1', fontsize = 20)\n",
    "ax.set_xlabel('Прибыль', fontsize = 15)\n",
    "ax.set_ylabel('Количество', fontsize = 15);"
   ]
  },
  {
   "cell_type": "code",
   "execution_count": 27,
   "metadata": {},
   "outputs": [
    {
     "data": {
      "image/png": "[encoded data removed]",
      "text/plain": [
       "<Figure size 1224x144 with 1 Axes>"
      ]
     },
     "metadata": {},
     "output_type": "display_data"
    }
   ],
   "source": [
    "# Выводим гистограмму распределения прибыли в регионе 2\n",
    "ax = distribution_2.hist(bins=100, figsize=(17,2), color='red')\n",
    "ax.set_title('Распределение прибыли в регионе 2', fontsize = 20)\n",
    "ax.set_xlabel('Прибыль', fontsize = 15)\n",
    "ax.set_ylabel('Количество', fontsize = 15);"
   ]
  },
  {
   "cell_type": "code",
   "execution_count": 28,
   "metadata": {},
   "outputs": [
    {
     "name": "stdout",
     "output_type": "stream",
     "text": [
      "Средняя прибыль региона 0: 454081961\n",
      "Средняя прибыль региона 1: 536353176\n",
      "Средняя прибыль региона 2: 346113947\n"
     ]
    }
   ],
   "source": [
    "# Выведем среднюю прибыль для каждого региона\n",
    "# для региона 0\n",
    "print(\"Средняя прибыль региона 0:\", round(distribution_0.mean()))\n",
    "# для региона 1\n",
    "print(\"Средняя прибыль региона 1:\", round(distribution_1.mean()))\n",
    "# для региона 2\n",
    "print(\"Средняя прибыль региона 2:\", round(distribution_2.mean()))"
   ]
  },
  {
   "cell_type": "markdown",
   "metadata": {},
   "source": [
    "Как видим, самую высокую среднюю прибыль показал **регион 1**. Она составила **536 миллионов**;<br>\n",
    "на втором месте **регион 0** (454 миллиона);<br>\n",
    "и на третьем **регион 2**(346 миллиона)."
   ]
  },
  {
   "cell_type": "markdown",
   "metadata": {},
   "source": [
    "### Поиск доверительного интервала"
   ]
  },
  {
   "cell_type": "markdown",
   "metadata": {},
   "source": [
    "Найдем доверительный интервал для трех регионов:"
   ]
  },
  {
   "cell_type": "code",
   "execution_count": 29,
   "metadata": {},
   "outputs": [
    {
     "name": "stdout",
     "output_type": "stream",
     "text": [
      "95%-ый доверительный интервал региона 0: (-43033958.80684408, 980556563.5121663)\n",
      "95%-ый доверительный интервал региона 1: (116686237.11268221, 940781156.4881223)\n",
      "95%-ый доверительный интервал региона 2: (-194191722.76713434, 870786073.5979781)\n"
     ]
    }
   ],
   "source": [
    "# Выведем 95 доверительный интервал для каждого региона.\n",
    "# Для этого используем квантили\n",
    "# для региона 0\n",
    "print(f\"95%-ый доверительный интервал региона 0: ({distribution_0.quantile(0.025)}, {distribution_0.quantile(0.975)})\")\n",
    "# для региона 1\n",
    "print(f\"95%-ый доверительный интервал региона 1: ({distribution_1.quantile(0.025)}, {distribution_1.quantile(0.975)})\")\n",
    "# для региона 2\n",
    "print(f\"95%-ый доверительный интервал региона 2: ({distribution_2.quantile(0.025)}, {distribution_2.quantile(0.975)})\")"
   ]
  },
  {
   "cell_type": "markdown",
   "metadata": {},
   "source": [
    "Видим, что доверительный интервал, который соответствует условию задачи у **региона 1**<br>\n",
    "– значит он и является оптимальным для разработки."
   ]
  },
  {
   "cell_type": "markdown",
   "metadata": {},
   "source": [
    "Посмотрим какой нижний предел соответствует нашему условию для каждого региона.<br>\n",
    "Для этого сделаем небольшую функцию, которая покажет процент случаев, когда возможен убыток:"
   ]
  },
  {
   "cell_type": "code",
   "execution_count": 30,
   "metadata": {},
   "outputs": [],
   "source": [
    "# Функция для получения процента элементов в выборке\n",
    "def get_percent_of_sample(whole_data, part_data):\n",
    "    '''\n",
    "    Функция высчитывает, сколько элементов в процентном соотношении входит в выборку.\n",
    "            Параметры:\n",
    "                    whole_data (DataFrame): Таблица, которая содержит в себе все данные, \n",
    "                    part_data (DataFrame): Таблица, которая содержит только часть данных.\n",
    "    ''' \n",
    "    # Делим количество отфильтрованной выборки на общую и возвращаем это значение\n",
    "    return len(part_data) / len(whole_data)"
   ]
  },
  {
   "cell_type": "code",
   "execution_count": 31,
   "metadata": {},
   "outputs": [
    {
     "name": "stdout",
     "output_type": "stream",
     "text": [
      "Нижняя граница в соответствии с условием для региона 0: 0.041\n",
      "Нижняя граница в соответствии с условием для региона 1: 0.005\n",
      "Нижняя граница в соответствии с условием для региона 2: 0.096\n"
     ]
    }
   ],
   "source": [
    "# для региона 0\n",
    "print(\"Нижняя граница в соответствии с условием для региона 0:\",\n",
    "      get_percent_of_sample(distribution_0, distribution_0[distribution_0 < 0]))\n",
    "# для региона 1\n",
    "print(\"Нижняя граница в соответствии с условием для региона 1:\",\n",
    "      get_percent_of_sample(distribution_1, distribution_1[distribution_1 < 0]))\n",
    "# для региона 2\n",
    "print(\"Нижняя граница в соответствии с условием для региона 2:\",\n",
    "      get_percent_of_sample(distribution_2, distribution_2[distribution_2 < 0]))"
   ]
  },
  {
   "cell_type": "markdown",
   "metadata": {},
   "source": [
    "Подтверждаем, что самый надежный – **регион 1** – процент убытка составляет всего **0.5%**<br>\n",
    "А самый ненадежный, это **регион 2** – вероятность убытка почти **10%**"
   ]
  },
  {
   "cell_type": "markdown",
   "metadata": {},
   "source": [
    "### Выводы"
   ]
  },
  {
   "cell_type": "markdown",
   "metadata": {},
   "source": [
    "- Мы провели исследование, в котором нашли ответ на главный вопрос <br>\n",
    " – какой регион лучше всего разрабатывать с использованием нашей модели предсказания. Это **регион – 1**.<br>\n",
    " его **95%-ый** доверительный интервал находится от **116_686_237** по **940_781_156**;\n",
    "- Средняя прибыль в **регионе 1** равняется **536_353_176**\n",
    "- Не смотря, на то, что в начале исследования данных, мы видели, что **регион 1** имеет самое низкое среднее значение и другие низкие показатели. Его главным плюсом оказалось то, что модель научилась лучше всего его предсказывать, что и сделало его лучшим для разработки.\n",
    "- Самый ненадежный **регион 2**. Его вероятность убытка составляет почти **10%**"
   ]
  },
  {
   "cell_type": "markdown",
   "metadata": {},
   "source": [
    "## Чек-лист готовности проекта"
   ]
  },
  {
   "cell_type": "markdown",
   "metadata": {},
   "source": [
    "Поставьте 'x' в выполненных пунктах. Далее нажмите Shift+Enter."
   ]
  },
  {
   "cell_type": "markdown",
   "metadata": {},
   "source": [
    "- [x]  Jupyter Notebook открыт\n",
    "- [ ]  Весь код выполняется без ошибок\n",
    "- [ ]  Ячейки с кодом расположены в порядке исполнения\n",
    "- [ ]  Выполнен шаг 1: данные подготовлены\n",
    "- [ ]  Выполнен шаг 2: модели обучены и проверены\n",
    "    - [ ]  Данные корректно разбиты на обучающую и валидационную выборки\n",
    "    - [ ]  Модели обучены, предсказания сделаны\n",
    "    - [ ]  Предсказания и правильные ответы на валидационной выборке сохранены\n",
    "    - [ ]  На экране напечатаны результаты\n",
    "    - [ ]  Сделаны выводы\n",
    "- [ ]  Выполнен шаг 3: проведена подготовка к расчёту прибыли\n",
    "    - [ ]  Для всех ключевых значений созданы константы Python\n",
    "    - [ ]  Посчитано минимальное среднее количество продукта в месторождениях региона, достаточное для разработки\n",
    "    - [ ]  По предыдущему пункту сделаны выводы\n",
    "    - [ ]  Написана функция расчёта прибыли\n",
    "- [ ]  Выполнен шаг 4: посчитаны риски и прибыль\n",
    "    - [ ]  Проведена процедура *Bootstrap*\n",
    "    - [ ]  Все параметры бутстрепа соответствуют условию\n",
    "    - [ ]  Найдены все нужные величины\n",
    "    - [ ]  Предложен регион для разработки месторождения\n",
    "    - [ ]  Выбор региона обоснован"
   ]
  }
 ],
 "metadata": {
  "ExecuteTimeLog": [
   {
    "duration": 44,
    "start_time": "2023-01-22T04:29:48.827Z"
   },
   {
    "duration": 379,
    "start_time": "2023-01-22T04:30:29.965Z"
   },
   {
    "duration": 3,
    "start_time": "2023-01-22T04:30:32.758Z"
   },
   {
    "duration": 51,
    "start_time": "2023-01-22T04:30:33.046Z"
   },
   {
    "duration": 1486,
    "start_time": "2023-01-22T04:30:52.752Z"
   },
   {
    "duration": 3,
    "start_time": "2023-01-22T04:31:33.298Z"
   },
   {
    "duration": 18,
    "start_time": "2023-01-22T04:31:45.562Z"
   },
   {
    "duration": 14,
    "start_time": "2023-01-22T04:32:18.126Z"
   },
   {
    "duration": 19,
    "start_time": "2023-01-22T04:32:23.399Z"
   },
   {
    "duration": 19,
    "start_time": "2023-01-22T04:33:12.468Z"
   },
   {
    "duration": 19,
    "start_time": "2023-01-22T04:33:29.804Z"
   },
   {
    "duration": 17,
    "start_time": "2023-01-22T04:33:50.022Z"
   },
   {
    "duration": 45,
    "start_time": "2023-01-22T04:33:55.121Z"
   },
   {
    "duration": 36,
    "start_time": "2023-01-22T04:34:06.324Z"
   },
   {
    "duration": 13,
    "start_time": "2023-01-22T04:34:15.140Z"
   },
   {
    "duration": 34,
    "start_time": "2023-01-22T04:34:32.129Z"
   },
   {
    "duration": 13,
    "start_time": "2023-01-22T04:35:00.062Z"
   },
   {
    "duration": 13,
    "start_time": "2023-01-22T04:35:47.970Z"
   },
   {
    "duration": 9,
    "start_time": "2023-01-22T04:35:56.803Z"
   },
   {
    "duration": 8,
    "start_time": "2023-01-22T04:35:59.705Z"
   },
   {
    "duration": 20,
    "start_time": "2023-01-22T04:36:39.467Z"
   },
   {
    "duration": 25,
    "start_time": "2023-01-22T04:42:57.418Z"
   },
   {
    "duration": 7,
    "start_time": "2023-01-22T04:51:40.959Z"
   },
   {
    "duration": 6,
    "start_time": "2023-01-22T04:51:48.814Z"
   },
   {
    "duration": 618,
    "start_time": "2023-01-22T04:53:35.286Z"
   },
   {
    "duration": 42,
    "start_time": "2023-01-22T04:54:48.281Z"
   },
   {
    "duration": 17,
    "start_time": "2023-01-22T04:54:55.999Z"
   },
   {
    "duration": 49,
    "start_time": "2023-01-22T04:56:15.761Z"
   },
   {
    "duration": 3,
    "start_time": "2023-01-22T05:00:49.139Z"
   },
   {
    "duration": 5,
    "start_time": "2023-01-22T05:00:50.967Z"
   },
   {
    "duration": 3,
    "start_time": "2023-01-22T05:00:52.778Z"
   },
   {
    "duration": 58,
    "start_time": "2023-01-22T05:05:49.923Z"
   },
   {
    "duration": 6,
    "start_time": "2023-01-22T05:06:01.109Z"
   },
   {
    "duration": 6,
    "start_time": "2023-01-22T05:06:07.516Z"
   },
   {
    "duration": 43,
    "start_time": "2023-01-22T05:06:37.623Z"
   },
   {
    "duration": 7,
    "start_time": "2023-01-22T05:06:42.381Z"
   },
   {
    "duration": 20,
    "start_time": "2023-01-22T05:08:33.407Z"
   },
   {
    "duration": 83,
    "start_time": "2023-01-22T05:08:43.986Z"
   },
   {
    "duration": 25,
    "start_time": "2023-01-22T05:08:45.514Z"
   },
   {
    "duration": 168,
    "start_time": "2023-01-22T05:09:21.296Z"
   },
   {
    "duration": 67,
    "start_time": "2023-01-22T05:09:21.745Z"
   },
   {
    "duration": 20,
    "start_time": "2023-01-22T05:09:49.558Z"
   },
   {
    "duration": 5,
    "start_time": "2023-01-22T05:10:32.598Z"
   },
   {
    "duration": 12,
    "start_time": "2023-01-22T05:10:45.738Z"
   },
   {
    "duration": 3,
    "start_time": "2023-01-22T05:10:57.529Z"
   },
   {
    "duration": 63,
    "start_time": "2023-01-22T05:11:12.233Z"
   },
   {
    "duration": 4,
    "start_time": "2023-01-22T05:11:25.557Z"
   },
   {
    "duration": 8,
    "start_time": "2023-01-22T05:11:32.579Z"
   },
   {
    "duration": 5,
    "start_time": "2023-01-22T05:11:35.959Z"
   },
   {
    "duration": 49,
    "start_time": "2023-01-22T05:16:33.028Z"
   },
   {
    "duration": 53,
    "start_time": "2023-01-22T05:16:47.278Z"
   },
   {
    "duration": 12,
    "start_time": "2023-01-22T05:16:59.397Z"
   },
   {
    "duration": 8,
    "start_time": "2023-01-22T05:17:08.901Z"
   },
   {
    "duration": 43,
    "start_time": "2023-01-22T05:17:11.829Z"
   },
   {
    "duration": 40,
    "start_time": "2023-01-22T05:17:55.210Z"
   },
   {
    "duration": 4,
    "start_time": "2023-01-22T05:17:58.486Z"
   },
   {
    "duration": 33,
    "start_time": "2023-01-22T05:18:01.399Z"
   },
   {
    "duration": 39,
    "start_time": "2023-01-22T05:18:54.998Z"
   },
   {
    "duration": 8,
    "start_time": "2023-01-22T05:19:08.181Z"
   },
   {
    "duration": 44,
    "start_time": "2023-01-22T05:19:21.374Z"
   },
   {
    "duration": 4,
    "start_time": "2023-01-22T05:19:23.551Z"
   },
   {
    "duration": 7,
    "start_time": "2023-01-22T05:19:28.652Z"
   },
   {
    "duration": 5,
    "start_time": "2023-01-22T05:19:34.643Z"
   },
   {
    "duration": 45,
    "start_time": "2023-01-22T05:19:41.537Z"
   },
   {
    "duration": 18,
    "start_time": "2023-01-22T05:20:06.370Z"
   },
   {
    "duration": 5,
    "start_time": "2023-01-22T05:20:16.118Z"
   },
   {
    "duration": 19,
    "start_time": "2023-01-22T05:20:19.901Z"
   },
   {
    "duration": 40,
    "start_time": "2023-01-22T05:20:25.926Z"
   },
   {
    "duration": 40,
    "start_time": "2023-01-22T05:20:33.541Z"
   },
   {
    "duration": 10,
    "start_time": "2023-01-22T05:20:40.818Z"
   },
   {
    "duration": 30,
    "start_time": "2023-01-22T05:20:44.607Z"
   },
   {
    "duration": 41,
    "start_time": "2023-01-22T05:21:23.550Z"
   },
   {
    "duration": 43,
    "start_time": "2023-01-22T05:25:16.234Z"
   },
   {
    "duration": 22,
    "start_time": "2023-01-22T05:25:45.608Z"
   },
   {
    "duration": 51,
    "start_time": "2023-01-22T05:25:48.850Z"
   },
   {
    "duration": 66,
    "start_time": "2023-01-22T05:25:56.686Z"
   },
   {
    "duration": 76,
    "start_time": "2023-01-22T05:26:36.125Z"
   },
   {
    "duration": 37,
    "start_time": "2023-01-22T05:27:18.232Z"
   },
   {
    "duration": 26,
    "start_time": "2023-01-22T05:27:41.537Z"
   },
   {
    "duration": 44,
    "start_time": "2023-01-22T05:27:44.149Z"
   },
   {
    "duration": 72,
    "start_time": "2023-01-22T05:27:47.445Z"
   },
   {
    "duration": 38,
    "start_time": "2023-01-22T05:27:58.185Z"
   },
   {
    "duration": 61,
    "start_time": "2023-01-22T05:27:59.216Z"
   },
   {
    "duration": 29,
    "start_time": "2023-01-22T05:28:18.403Z"
   },
   {
    "duration": 717,
    "start_time": "2023-01-22T05:28:25.357Z"
   },
   {
    "duration": 75,
    "start_time": "2023-01-22T05:28:56.476Z"
   },
   {
    "duration": 696,
    "start_time": "2023-01-22T05:29:00.801Z"
   },
   {
    "duration": 6,
    "start_time": "2023-01-22T05:29:12.102Z"
   },
   {
    "duration": 40,
    "start_time": "2023-01-22T05:29:14.967Z"
   },
   {
    "duration": 29,
    "start_time": "2023-01-22T05:29:32.197Z"
   },
   {
    "duration": 31,
    "start_time": "2023-01-22T05:29:39.286Z"
   },
   {
    "duration": 31,
    "start_time": "2023-01-22T05:29:57.873Z"
   },
   {
    "duration": 36,
    "start_time": "2023-01-22T05:30:00.987Z"
   },
   {
    "duration": 55,
    "start_time": "2023-01-22T05:30:07.541Z"
   },
   {
    "duration": 193,
    "start_time": "2023-01-22T05:30:08.085Z"
   },
   {
    "duration": 3,
    "start_time": "2023-01-22T05:30:08.635Z"
   },
   {
    "duration": 2,
    "start_time": "2023-01-22T05:30:09.108Z"
   },
   {
    "duration": 32,
    "start_time": "2023-01-22T05:30:26.640Z"
   },
   {
    "duration": 206,
    "start_time": "2023-01-22T05:31:28.475Z"
   },
   {
    "duration": 46,
    "start_time": "2023-01-22T05:31:30.462Z"
   },
   {
    "duration": 191,
    "start_time": "2023-01-22T05:31:30.693Z"
   },
   {
    "duration": 2,
    "start_time": "2023-01-22T05:31:31.002Z"
   },
   {
    "duration": 2,
    "start_time": "2023-01-22T05:31:31.567Z"
   },
   {
    "duration": 185,
    "start_time": "2023-01-22T05:31:31.964Z"
   },
   {
    "duration": 37,
    "start_time": "2023-01-22T05:31:33.854Z"
   },
   {
    "duration": 2,
    "start_time": "2023-01-22T05:37:22.984Z"
   },
   {
    "duration": 2,
    "start_time": "2023-01-22T05:37:30.182Z"
   },
   {
    "duration": 30,
    "start_time": "2023-01-22T05:37:40.676Z"
   },
   {
    "duration": 3,
    "start_time": "2023-01-22T05:38:33.534Z"
   },
   {
    "duration": 51,
    "start_time": "2023-01-22T05:40:00.922Z"
   },
   {
    "duration": 3,
    "start_time": "2023-01-22T05:40:05.368Z"
   },
   {
    "duration": 12,
    "start_time": "2023-01-22T05:40:11.022Z"
   },
   {
    "duration": 23,
    "start_time": "2023-01-22T05:40:24.800Z"
   },
   {
    "duration": 8,
    "start_time": "2023-01-22T05:40:31.712Z"
   },
   {
    "duration": 48,
    "start_time": "2023-01-22T05:40:38.076Z"
   },
   {
    "duration": 5,
    "start_time": "2023-01-22T05:41:15.240Z"
   },
   {
    "duration": 4,
    "start_time": "2023-01-22T05:41:16.614Z"
   },
   {
    "duration": 45,
    "start_time": "2023-01-22T05:41:16.806Z"
   },
   {
    "duration": 214,
    "start_time": "2023-01-22T05:41:16.982Z"
   },
   {
    "duration": 3,
    "start_time": "2023-01-22T05:41:17.198Z"
   },
   {
    "duration": 7,
    "start_time": "2023-01-22T05:41:17.375Z"
   },
   {
    "duration": 201,
    "start_time": "2023-01-22T05:41:17.566Z"
   },
   {
    "duration": 2,
    "start_time": "2023-01-22T05:41:17.815Z"
   },
   {
    "duration": 3,
    "start_time": "2023-01-22T05:41:19.626Z"
   },
   {
    "duration": 16,
    "start_time": "2023-01-22T05:41:20.169Z"
   },
   {
    "duration": 12,
    "start_time": "2023-01-22T05:43:40.920Z"
   },
   {
    "duration": 14,
    "start_time": "2023-01-22T05:43:48.698Z"
   },
   {
    "duration": 13,
    "start_time": "2023-01-22T05:43:49.516Z"
   },
   {
    "duration": 13,
    "start_time": "2023-01-22T05:43:59.422Z"
   },
   {
    "duration": 13,
    "start_time": "2023-01-22T05:44:05.167Z"
   },
   {
    "duration": 11,
    "start_time": "2023-01-22T05:44:06.730Z"
   },
   {
    "duration": 20,
    "start_time": "2023-01-22T05:44:38.624Z"
   },
   {
    "duration": 21,
    "start_time": "2023-01-22T05:45:12.372Z"
   },
   {
    "duration": 3,
    "start_time": "2023-01-22T05:45:25.890Z"
   },
   {
    "duration": 58,
    "start_time": "2023-01-22T05:45:34.111Z"
   },
   {
    "duration": 5,
    "start_time": "2023-01-22T05:45:43.438Z"
   },
   {
    "duration": 47,
    "start_time": "2023-01-22T05:45:52.902Z"
   },
   {
    "duration": 3,
    "start_time": "2023-01-22T08:57:51.900Z"
   },
   {
    "duration": 2019,
    "start_time": "2023-01-22T08:57:51.905Z"
   },
   {
    "duration": 21,
    "start_time": "2023-01-22T08:57:53.926Z"
   },
   {
    "duration": 6,
    "start_time": "2023-01-22T08:57:53.950Z"
   },
   {
    "duration": 42,
    "start_time": "2023-01-22T08:57:53.958Z"
   },
   {
    "duration": 50,
    "start_time": "2023-01-22T08:57:54.002Z"
   },
   {
    "duration": 220,
    "start_time": "2023-01-22T08:57:54.054Z"
   },
   {
    "duration": 6,
    "start_time": "2023-01-22T08:57:54.277Z"
   },
   {
    "duration": 18,
    "start_time": "2023-01-22T08:57:54.284Z"
   },
   {
    "duration": 273,
    "start_time": "2023-01-22T08:57:54.304Z"
   },
   {
    "duration": 2,
    "start_time": "2023-01-22T08:57:54.579Z"
   },
   {
    "duration": 15,
    "start_time": "2023-01-22T08:57:54.584Z"
   },
   {
    "duration": 20,
    "start_time": "2023-01-22T08:57:54.600Z"
   },
   {
    "duration": 23,
    "start_time": "2023-01-22T08:57:56.744Z"
   },
   {
    "duration": 20,
    "start_time": "2023-01-22T08:57:57.898Z"
   },
   {
    "duration": 9,
    "start_time": "2023-01-22T08:59:12.777Z"
   },
   {
    "duration": 9,
    "start_time": "2023-01-22T08:59:24.776Z"
   },
   {
    "duration": 4,
    "start_time": "2023-01-22T08:59:37.823Z"
   },
   {
    "duration": 12,
    "start_time": "2023-01-22T08:59:46.119Z"
   },
   {
    "duration": 8,
    "start_time": "2023-01-22T08:59:54.423Z"
   },
   {
    "duration": 41,
    "start_time": "2023-01-22T09:00:04.326Z"
   },
   {
    "duration": 52,
    "start_time": "2023-01-22T09:00:19.602Z"
   },
   {
    "duration": 11,
    "start_time": "2023-01-22T09:00:30.733Z"
   },
   {
    "duration": 12,
    "start_time": "2023-01-22T09:00:58.595Z"
   },
   {
    "duration": 11,
    "start_time": "2023-01-22T09:01:08.490Z"
   },
   {
    "duration": 14,
    "start_time": "2023-01-22T09:01:14.511Z"
   },
   {
    "duration": 5,
    "start_time": "2023-01-22T09:01:29.203Z"
   },
   {
    "duration": 7,
    "start_time": "2023-01-22T09:01:37.479Z"
   },
   {
    "duration": 5,
    "start_time": "2023-01-22T09:01:44.190Z"
   },
   {
    "duration": 20,
    "start_time": "2023-01-22T09:01:50.246Z"
   },
   {
    "duration": 4,
    "start_time": "2023-01-22T09:02:13.137Z"
   },
   {
    "duration": 18,
    "start_time": "2023-01-22T09:02:22.179Z"
   },
   {
    "duration": 4,
    "start_time": "2023-01-22T09:02:50.087Z"
   },
   {
    "duration": 16,
    "start_time": "2023-01-22T09:02:52.301Z"
   },
   {
    "duration": 17,
    "start_time": "2023-01-22T09:03:26.937Z"
   },
   {
    "duration": 13,
    "start_time": "2023-01-22T09:03:35.924Z"
   },
   {
    "duration": 13,
    "start_time": "2023-01-22T09:04:34.797Z"
   },
   {
    "duration": 22,
    "start_time": "2023-01-22T09:04:37.448Z"
   },
   {
    "duration": 12,
    "start_time": "2023-01-22T09:05:00.131Z"
   },
   {
    "duration": 41,
    "start_time": "2023-01-22T09:06:17.542Z"
   },
   {
    "duration": 10,
    "start_time": "2023-01-22T09:06:28.039Z"
   },
   {
    "duration": 42,
    "start_time": "2023-01-22T09:06:36.884Z"
   },
   {
    "duration": 26,
    "start_time": "2023-01-22T09:06:38.500Z"
   },
   {
    "duration": 7,
    "start_time": "2023-01-22T09:06:50.380Z"
   },
   {
    "duration": 116,
    "start_time": "2023-01-22T09:07:12.547Z"
   },
   {
    "duration": 27,
    "start_time": "2023-01-22T09:07:16.913Z"
   },
   {
    "duration": 13,
    "start_time": "2023-01-22T09:07:29.809Z"
   },
   {
    "duration": 20,
    "start_time": "2023-01-22T09:07:37.471Z"
   },
   {
    "duration": 27,
    "start_time": "2023-01-22T09:07:38.635Z"
   },
   {
    "duration": 2,
    "start_time": "2023-01-22T09:07:43.536Z"
   },
   {
    "duration": 601,
    "start_time": "2023-01-22T09:07:43.541Z"
   },
   {
    "duration": 42,
    "start_time": "2023-01-22T09:07:44.144Z"
   },
   {
    "duration": 24,
    "start_time": "2023-01-22T09:07:44.190Z"
   },
   {
    "duration": 8,
    "start_time": "2023-01-22T09:07:44.216Z"
   },
   {
    "duration": 61,
    "start_time": "2023-01-22T09:07:44.226Z"
   },
   {
    "duration": 242,
    "start_time": "2023-01-22T09:07:44.289Z"
   },
   {
    "duration": 3,
    "start_time": "2023-01-22T09:07:44.533Z"
   },
   {
    "duration": 16,
    "start_time": "2023-01-22T09:07:44.537Z"
   },
   {
    "duration": 331,
    "start_time": "2023-01-22T09:07:44.564Z"
   },
   {
    "duration": 3,
    "start_time": "2023-01-22T09:07:44.907Z"
   },
   {
    "duration": 7,
    "start_time": "2023-01-22T09:07:44.911Z"
   },
   {
    "duration": 20,
    "start_time": "2023-01-22T09:07:44.920Z"
   },
   {
    "duration": 112,
    "start_time": "2023-01-22T09:07:44.943Z"
   },
   {
    "duration": 125,
    "start_time": "2023-01-22T09:07:46.464Z"
   },
   {
    "duration": 14,
    "start_time": "2023-01-22T09:08:07.192Z"
   },
   {
    "duration": 13,
    "start_time": "2023-01-22T09:08:19.135Z"
   },
   {
    "duration": 43,
    "start_time": "2023-01-22T09:08:34.136Z"
   },
   {
    "duration": 46,
    "start_time": "2023-01-22T09:08:50.101Z"
   },
   {
    "duration": 58,
    "start_time": "2023-01-22T09:08:53.697Z"
   },
   {
    "duration": 35,
    "start_time": "2023-01-22T09:08:56.438Z"
   },
   {
    "duration": 44,
    "start_time": "2023-01-22T09:09:10.149Z"
   },
   {
    "duration": 19,
    "start_time": "2023-01-22T09:09:17.436Z"
   },
   {
    "duration": 36,
    "start_time": "2023-01-22T09:09:39.917Z"
   },
   {
    "duration": 5,
    "start_time": "2023-01-22T09:11:05.450Z"
   },
   {
    "duration": 93,
    "start_time": "2023-01-22T09:11:08.524Z"
   },
   {
    "duration": 8,
    "start_time": "2023-01-22T09:12:24.184Z"
   },
   {
    "duration": 89,
    "start_time": "2023-01-22T09:12:29.631Z"
   },
   {
    "duration": 7,
    "start_time": "2023-01-22T09:14:16.547Z"
   },
   {
    "duration": 31,
    "start_time": "2023-01-22T09:14:19.074Z"
   },
   {
    "duration": 98,
    "start_time": "2023-01-22T09:14:27.406Z"
   },
   {
    "duration": 108,
    "start_time": "2023-01-22T09:14:29.609Z"
   },
   {
    "duration": 3,
    "start_time": "2023-01-22T09:14:35.112Z"
   },
   {
    "duration": 517,
    "start_time": "2023-01-22T09:14:35.118Z"
   },
   {
    "duration": 48,
    "start_time": "2023-01-22T09:14:35.636Z"
   },
   {
    "duration": 25,
    "start_time": "2023-01-22T09:14:35.685Z"
   },
   {
    "duration": 13,
    "start_time": "2023-01-22T09:14:35.713Z"
   },
   {
    "duration": 88,
    "start_time": "2023-01-22T09:14:35.728Z"
   },
   {
    "duration": 250,
    "start_time": "2023-01-22T09:14:35.818Z"
   },
   {
    "duration": 6,
    "start_time": "2023-01-22T09:14:36.070Z"
   },
   {
    "duration": 51,
    "start_time": "2023-01-22T09:14:36.078Z"
   },
   {
    "duration": 380,
    "start_time": "2023-01-22T09:14:36.130Z"
   },
   {
    "duration": 10,
    "start_time": "2023-01-22T09:14:36.517Z"
   },
   {
    "duration": 52,
    "start_time": "2023-01-22T09:14:36.531Z"
   },
   {
    "duration": 4,
    "start_time": "2023-01-22T09:14:37.508Z"
   },
   {
    "duration": 158,
    "start_time": "2023-01-22T09:14:38.005Z"
   },
   {
    "duration": 371,
    "start_time": "2023-01-23T05:37:52.376Z"
   },
   {
    "duration": 1445,
    "start_time": "2023-01-23T05:37:52.749Z"
   },
   {
    "duration": 28,
    "start_time": "2023-01-23T05:37:54.196Z"
   },
   {
    "duration": 21,
    "start_time": "2023-01-23T05:37:55.711Z"
   },
   {
    "duration": 4,
    "start_time": "2023-01-23T05:37:58.268Z"
   },
   {
    "duration": 665,
    "start_time": "2023-01-23T05:39:47.301Z"
   },
   {
    "duration": 44,
    "start_time": "2023-01-23T05:39:49.185Z"
   },
   {
    "duration": 19,
    "start_time": "2023-01-23T05:40:04.270Z"
   },
   {
    "duration": 2,
    "start_time": "2023-01-23T05:40:04.654Z"
   },
   {
    "duration": 3,
    "start_time": "2023-01-23T05:40:05.326Z"
   },
   {
    "duration": 3,
    "start_time": "2023-01-23T05:40:08.235Z"
   },
   {
    "duration": 2,
    "start_time": "2023-01-23T05:47:18.701Z"
   },
   {
    "duration": 3,
    "start_time": "2023-01-23T05:47:18.878Z"
   },
   {
    "duration": 68,
    "start_time": "2023-01-23T05:47:19.658Z"
   },
   {
    "duration": 63,
    "start_time": "2023-01-23T05:47:51.813Z"
   },
   {
    "duration": 81,
    "start_time": "2023-01-23T05:47:54.720Z"
   },
   {
    "duration": 3,
    "start_time": "2023-01-23T05:47:55.104Z"
   },
   {
    "duration": 3,
    "start_time": "2023-01-23T05:47:55.553Z"
   },
   {
    "duration": 73,
    "start_time": "2023-01-23T05:55:03.016Z"
   },
   {
    "duration": 26,
    "start_time": "2023-01-23T05:55:09.053Z"
   },
   {
    "duration": 3,
    "start_time": "2023-01-23T05:55:10.103Z"
   },
   {
    "duration": 3,
    "start_time": "2023-01-23T06:19:03.192Z"
   },
   {
    "duration": 29,
    "start_time": "2023-01-23T06:19:21.812Z"
   },
   {
    "duration": 6,
    "start_time": "2023-01-23T06:20:43.759Z"
   },
   {
    "duration": 6,
    "start_time": "2023-01-23T06:20:54.253Z"
   },
   {
    "duration": 6,
    "start_time": "2023-01-23T06:21:08.808Z"
   },
   {
    "duration": 6,
    "start_time": "2023-01-23T06:21:20.094Z"
   },
   {
    "duration": 5,
    "start_time": "2023-01-23T06:21:25.831Z"
   },
   {
    "duration": 6,
    "start_time": "2023-01-23T06:21:30.129Z"
   },
   {
    "duration": 93,
    "start_time": "2023-01-23T06:29:09.277Z"
   },
   {
    "duration": 2,
    "start_time": "2023-01-23T06:29:27.016Z"
   },
   {
    "duration": 5,
    "start_time": "2023-01-23T06:29:38.321Z"
   },
   {
    "duration": 10,
    "start_time": "2023-01-23T06:29:52.382Z"
   },
   {
    "duration": 10,
    "start_time": "2023-01-23T06:30:02.659Z"
   },
   {
    "duration": 6,
    "start_time": "2023-01-23T06:30:29.251Z"
   },
   {
    "duration": 5,
    "start_time": "2023-01-23T06:30:35.199Z"
   },
   {
    "duration": 5,
    "start_time": "2023-01-23T06:31:02.081Z"
   },
   {
    "duration": 6,
    "start_time": "2023-01-23T06:31:14.043Z"
   },
   {
    "duration": 9,
    "start_time": "2023-01-23T06:31:27.739Z"
   },
   {
    "duration": 10,
    "start_time": "2023-01-23T06:31:46.347Z"
   },
   {
    "duration": 5,
    "start_time": "2023-01-23T06:31:54.836Z"
   },
   {
    "duration": 3,
    "start_time": "2023-01-23T06:32:01.313Z"
   },
   {
    "duration": 6,
    "start_time": "2023-01-23T06:32:08.518Z"
   },
   {
    "duration": 6,
    "start_time": "2023-01-23T06:32:29.320Z"
   },
   {
    "duration": 6,
    "start_time": "2023-01-23T06:32:51.584Z"
   },
   {
    "duration": 6,
    "start_time": "2023-01-23T06:32:57.131Z"
   },
   {
    "duration": 6,
    "start_time": "2023-01-23T06:33:44.299Z"
   },
   {
    "duration": 8,
    "start_time": "2023-01-23T06:33:44.699Z"
   },
   {
    "duration": 8,
    "start_time": "2023-01-23T06:33:47.928Z"
   },
   {
    "duration": 2,
    "start_time": "2023-01-23T06:39:52.483Z"
   },
   {
    "duration": 4,
    "start_time": "2023-01-23T06:40:09.033Z"
   },
   {
    "duration": 8,
    "start_time": "2023-01-23T06:40:18.154Z"
   },
   {
    "duration": 3,
    "start_time": "2023-01-23T06:40:50.989Z"
   },
   {
    "duration": 3,
    "start_time": "2023-01-23T06:40:59.624Z"
   },
   {
    "duration": 4,
    "start_time": "2023-01-23T06:41:07.190Z"
   },
   {
    "duration": 3,
    "start_time": "2023-01-23T06:41:09.216Z"
   },
   {
    "duration": 15,
    "start_time": "2023-01-23T06:41:55.487Z"
   },
   {
    "duration": 16,
    "start_time": "2023-01-23T06:42:53.581Z"
   },
   {
    "duration": 5,
    "start_time": "2023-01-23T06:43:14.215Z"
   },
   {
    "duration": 3,
    "start_time": "2023-01-23T06:44:12.647Z"
   },
   {
    "duration": 7,
    "start_time": "2023-01-23T06:44:17.527Z"
   },
   {
    "duration": 3,
    "start_time": "2023-01-23T06:44:21.678Z"
   },
   {
    "duration": 3,
    "start_time": "2023-01-23T06:44:21.985Z"
   },
   {
    "duration": 2,
    "start_time": "2023-01-23T06:44:22.402Z"
   },
   {
    "duration": 23,
    "start_time": "2023-01-23T06:44:23.409Z"
   },
   {
    "duration": 2,
    "start_time": "2023-01-23T06:44:23.854Z"
   },
   {
    "duration": 5,
    "start_time": "2023-01-23T06:44:24.397Z"
   },
   {
    "duration": 6,
    "start_time": "2023-01-23T06:44:25.966Z"
   },
   {
    "duration": 3,
    "start_time": "2023-01-23T06:44:26.432Z"
   },
   {
    "duration": 3,
    "start_time": "2023-01-23T06:44:30.645Z"
   },
   {
    "duration": 6,
    "start_time": "2023-01-23T06:44:33.313Z"
   },
   {
    "duration": 8,
    "start_time": "2023-01-23T06:44:53.250Z"
   },
   {
    "duration": 9,
    "start_time": "2023-01-23T06:45:03.349Z"
   },
   {
    "duration": 6,
    "start_time": "2023-01-23T06:45:52.349Z"
   },
   {
    "duration": 6,
    "start_time": "2023-01-23T06:46:01.608Z"
   },
   {
    "duration": 6,
    "start_time": "2023-01-23T06:46:21.637Z"
   },
   {
    "duration": 15,
    "start_time": "2023-01-23T06:46:34.127Z"
   },
   {
    "duration": 16,
    "start_time": "2023-01-23T06:46:41.697Z"
   },
   {
    "duration": 23,
    "start_time": "2023-01-23T06:47:37.365Z"
   },
   {
    "duration": 4,
    "start_time": "2023-01-23T06:47:44.992Z"
   },
   {
    "duration": 13,
    "start_time": "2023-01-23T06:48:06.771Z"
   },
   {
    "duration": 3,
    "start_time": "2023-01-23T06:48:39.232Z"
   },
   {
    "duration": 14,
    "start_time": "2023-01-23T06:48:46.475Z"
   },
   {
    "duration": 3,
    "start_time": "2023-01-23T06:48:49.762Z"
   },
   {
    "duration": 11,
    "start_time": "2023-01-23T06:49:26.537Z"
   },
   {
    "duration": 4,
    "start_time": "2023-01-23T06:49:30.824Z"
   },
   {
    "duration": 8,
    "start_time": "2023-01-23T06:49:49.327Z"
   },
   {
    "duration": 12,
    "start_time": "2023-01-23T06:50:15.809Z"
   },
   {
    "duration": 17,
    "start_time": "2023-01-23T06:50:23.347Z"
   },
   {
    "duration": 19,
    "start_time": "2023-01-23T06:50:37.386Z"
   },
   {
    "duration": 12,
    "start_time": "2023-01-23T06:50:43.789Z"
   },
   {
    "duration": 13,
    "start_time": "2023-01-23T06:53:26.775Z"
   },
   {
    "duration": 4,
    "start_time": "2023-01-23T06:54:21.359Z"
   },
   {
    "duration": 6,
    "start_time": "2023-01-23T06:54:34.829Z"
   },
   {
    "duration": 9,
    "start_time": "2023-01-23T06:55:06.283Z"
   },
   {
    "duration": 6,
    "start_time": "2023-01-23T06:55:15.894Z"
   },
   {
    "duration": 6,
    "start_time": "2023-01-23T06:56:12.051Z"
   },
   {
    "duration": 4,
    "start_time": "2023-01-23T06:56:33.721Z"
   },
   {
    "duration": 4,
    "start_time": "2023-01-23T06:56:40.301Z"
   },
   {
    "duration": 3,
    "start_time": "2023-01-23T06:56:51.847Z"
   },
   {
    "duration": 419,
    "start_time": "2023-01-24T00:22:09.438Z"
   },
   {
    "duration": 1735,
    "start_time": "2023-01-24T00:22:09.930Z"
   },
   {
    "duration": 27,
    "start_time": "2023-01-24T00:22:41.610Z"
   },
   {
    "duration": 17,
    "start_time": "2023-01-24T00:25:15.001Z"
   },
   {
    "duration": 65,
    "start_time": "2023-01-24T00:25:29.035Z"
   },
   {
    "duration": 70,
    "start_time": "2023-01-24T00:25:43.102Z"
   },
   {
    "duration": 58,
    "start_time": "2023-01-24T00:25:47.873Z"
   },
   {
    "duration": 2,
    "start_time": "2023-01-24T00:48:13.217Z"
   },
   {
    "duration": 434,
    "start_time": "2023-01-24T00:48:16.035Z"
   },
   {
    "duration": 14,
    "start_time": "2023-01-24T00:54:52.979Z"
   },
   {
    "duration": 24,
    "start_time": "2023-01-24T00:54:57.143Z"
   },
   {
    "duration": 929,
    "start_time": "2023-01-24T00:58:47.993Z"
   },
   {
    "duration": 54,
    "start_time": "2023-01-24T00:59:27.464Z"
   },
   {
    "duration": 204,
    "start_time": "2023-01-24T00:59:31.913Z"
   },
   {
    "duration": 121,
    "start_time": "2023-01-24T01:01:16.332Z"
   },
   {
    "duration": 187,
    "start_time": "2023-01-24T01:01:23.984Z"
   },
   {
    "duration": 237,
    "start_time": "2023-01-24T01:01:35.243Z"
   },
   {
    "duration": 242,
    "start_time": "2023-01-24T01:01:41.704Z"
   },
   {
    "duration": 25,
    "start_time": "2023-01-24T01:02:11.179Z"
   },
   {
    "duration": 20,
    "start_time": "2023-01-24T01:02:22.561Z"
   },
   {
    "duration": 9,
    "start_time": "2023-01-24T01:02:28.069Z"
   },
   {
    "duration": 12,
    "start_time": "2023-01-24T01:02:30.519Z"
   },
   {
    "duration": 12,
    "start_time": "2023-01-24T01:03:27.031Z"
   },
   {
    "duration": 12,
    "start_time": "2023-01-24T01:04:02.711Z"
   },
   {
    "duration": 164,
    "start_time": "2023-01-24T01:04:09.234Z"
   },
   {
    "duration": 228,
    "start_time": "2023-01-24T01:04:15.913Z"
   },
   {
    "duration": 314,
    "start_time": "2023-01-24T01:04:28.164Z"
   },
   {
    "duration": 255,
    "start_time": "2023-01-24T01:04:35.428Z"
   },
   {
    "duration": 239,
    "start_time": "2023-01-24T01:04:40.502Z"
   },
   {
    "duration": 155,
    "start_time": "2023-01-24T01:05:10.676Z"
   },
   {
    "duration": 3,
    "start_time": "2023-01-24T01:12:22.338Z"
   },
   {
    "duration": 398,
    "start_time": "2023-01-24T01:13:03.693Z"
   },
   {
    "duration": 147,
    "start_time": "2023-01-24T01:15:01.189Z"
   },
   {
    "duration": 185,
    "start_time": "2023-01-24T01:16:21.191Z"
   },
   {
    "duration": 210,
    "start_time": "2023-01-24T01:16:29.549Z"
   },
   {
    "duration": 190,
    "start_time": "2023-01-24T01:16:40.232Z"
   },
   {
    "duration": 242,
    "start_time": "2023-01-24T01:16:45.476Z"
   },
   {
    "duration": 187,
    "start_time": "2023-01-24T01:17:01.934Z"
   },
   {
    "duration": 232,
    "start_time": "2023-01-24T01:17:13.231Z"
   },
   {
    "duration": 262,
    "start_time": "2023-01-24T01:17:17.134Z"
   },
   {
    "duration": 276,
    "start_time": "2023-01-24T01:17:23.270Z"
   },
   {
    "duration": 255,
    "start_time": "2023-01-24T01:17:29.567Z"
   },
   {
    "duration": 387,
    "start_time": "2023-01-24T01:17:37.441Z"
   },
   {
    "duration": 264,
    "start_time": "2023-01-24T01:17:48.218Z"
   },
   {
    "duration": 5,
    "start_time": "2023-01-24T01:22:06.254Z"
   },
   {
    "duration": 4,
    "start_time": "2023-01-24T01:22:15.732Z"
   },
   {
    "duration": 16,
    "start_time": "2023-01-24T01:22:15.785Z"
   },
   {
    "duration": 6,
    "start_time": "2023-01-24T01:59:16.148Z"
   },
   {
    "duration": 5,
    "start_time": "2023-01-24T01:59:22.329Z"
   },
   {
    "duration": 282,
    "start_time": "2023-01-24T02:00:00.831Z"
   },
   {
    "duration": 309,
    "start_time": "2023-01-24T02:00:09.337Z"
   },
   {
    "duration": 249,
    "start_time": "2023-01-24T02:00:48.200Z"
   },
   {
    "duration": 319,
    "start_time": "2023-01-24T02:00:56.115Z"
   },
   {
    "duration": 289,
    "start_time": "2023-01-24T02:01:01.268Z"
   },
   {
    "duration": 305,
    "start_time": "2023-01-24T02:01:17.337Z"
   },
   {
    "duration": 396,
    "start_time": "2023-01-24T02:02:12.445Z"
   },
   {
    "duration": 65,
    "start_time": "2023-01-26T22:13:55.935Z"
   },
   {
    "duration": 433,
    "start_time": "2023-01-26T22:13:59.870Z"
   },
   {
    "duration": 1710,
    "start_time": "2023-01-26T22:14:00.309Z"
   },
   {
    "duration": 28,
    "start_time": "2023-01-26T22:14:02.022Z"
   },
   {
    "duration": 1035,
    "start_time": "2023-01-26T22:14:02.052Z"
   },
   {
    "duration": 345,
    "start_time": "2023-01-26T22:14:03.093Z"
   },
   {
    "duration": 284,
    "start_time": "2023-01-26T22:14:53.090Z"
   },
   {
    "duration": 203,
    "start_time": "2023-01-26T22:14:54.472Z"
   },
   {
    "duration": 166,
    "start_time": "2023-01-26T22:15:18.753Z"
   },
   {
    "duration": 267,
    "start_time": "2023-01-26T22:15:44.798Z"
   },
   {
    "duration": 181,
    "start_time": "2023-01-26T22:15:53.685Z"
   },
   {
    "duration": 263,
    "start_time": "2023-01-26T22:16:03.643Z"
   },
   {
    "duration": 197,
    "start_time": "2023-01-26T22:16:09.954Z"
   },
   {
    "duration": 3,
    "start_time": "2023-01-26T22:16:28.865Z"
   },
   {
    "duration": 281,
    "start_time": "2023-01-26T22:16:29.213Z"
   },
   {
    "duration": 306,
    "start_time": "2023-01-26T22:16:35.166Z"
   },
   {
    "duration": 3,
    "start_time": "2023-01-26T22:16:39.662Z"
   },
   {
    "duration": 286,
    "start_time": "2023-01-26T22:16:40.215Z"
   },
   {
    "duration": 356,
    "start_time": "2023-01-26T22:17:05.862Z"
   },
   {
    "duration": 329,
    "start_time": "2023-01-26T22:17:33.915Z"
   },
   {
    "duration": 363,
    "start_time": "2023-01-26T22:17:40.481Z"
   },
   {
    "duration": 300,
    "start_time": "2023-01-26T22:17:44.549Z"
   },
   {
    "duration": 307,
    "start_time": "2023-01-26T22:17:47.385Z"
   },
   {
    "duration": 305,
    "start_time": "2023-01-26T22:17:52.612Z"
   },
   {
    "duration": 3,
    "start_time": "2023-01-26T22:17:55.850Z"
   },
   {
    "duration": 273,
    "start_time": "2023-01-26T22:17:56.753Z"
   },
   {
    "duration": 371,
    "start_time": "2023-01-26T22:18:04.297Z"
   },
   {
    "duration": 3,
    "start_time": "2023-01-26T22:18:08.406Z"
   },
   {
    "duration": 249,
    "start_time": "2023-01-26T22:18:09.113Z"
   },
   {
    "duration": 229,
    "start_time": "2023-01-26T22:18:20.143Z"
   },
   {
    "duration": 316,
    "start_time": "2023-01-26T22:18:29.324Z"
   },
   {
    "duration": 288,
    "start_time": "2023-01-26T22:18:35.312Z"
   },
   {
    "duration": 11,
    "start_time": "2023-01-26T22:21:06.506Z"
   },
   {
    "duration": 13,
    "start_time": "2023-01-26T22:21:44.195Z"
   },
   {
    "duration": 6,
    "start_time": "2023-01-26T22:23:47.877Z"
   },
   {
    "duration": 6,
    "start_time": "2023-01-26T22:23:54.363Z"
   },
   {
    "duration": 6,
    "start_time": "2023-01-26T22:31:23.864Z"
   },
   {
    "duration": 12,
    "start_time": "2023-01-26T22:31:27.953Z"
   },
   {
    "duration": 12,
    "start_time": "2023-01-26T22:31:47.085Z"
   },
   {
    "duration": 17,
    "start_time": "2023-01-26T22:31:54.568Z"
   },
   {
    "duration": 70,
    "start_time": "2023-01-26T22:32:02.376Z"
   },
   {
    "duration": 17,
    "start_time": "2023-01-26T22:32:29.920Z"
   },
   {
    "duration": 22,
    "start_time": "2023-01-26T22:32:39.548Z"
   },
   {
    "duration": 13,
    "start_time": "2023-01-26T22:32:47.560Z"
   },
   {
    "duration": 11,
    "start_time": "2023-01-26T22:32:54.619Z"
   },
   {
    "duration": 12,
    "start_time": "2023-01-26T22:33:07.739Z"
   },
   {
    "duration": 11,
    "start_time": "2023-01-26T22:33:36.483Z"
   },
   {
    "duration": 5,
    "start_time": "2023-01-26T22:33:42.115Z"
   },
   {
    "duration": 11,
    "start_time": "2023-01-26T22:34:16.814Z"
   },
   {
    "duration": 14,
    "start_time": "2023-01-26T22:34:20.816Z"
   },
   {
    "duration": 4,
    "start_time": "2023-01-26T22:34:24.656Z"
   },
   {
    "duration": 7,
    "start_time": "2023-01-26T22:34:29.068Z"
   },
   {
    "duration": 11,
    "start_time": "2023-01-26T22:34:41.012Z"
   },
   {
    "duration": 6,
    "start_time": "2023-01-26T22:34:44.847Z"
   },
   {
    "duration": 26,
    "start_time": "2023-01-26T22:35:03.719Z"
   },
   {
    "duration": 18,
    "start_time": "2023-01-26T22:35:15.546Z"
   },
   {
    "duration": 23,
    "start_time": "2023-01-26T22:36:23.347Z"
   },
   {
    "duration": 25,
    "start_time": "2023-01-26T23:12:45.847Z"
   },
   {
    "duration": 29,
    "start_time": "2023-01-26T23:13:11.037Z"
   },
   {
    "duration": 34,
    "start_time": "2023-01-26T23:15:59.040Z"
   },
   {
    "duration": 21,
    "start_time": "2023-01-26T23:16:44.052Z"
   },
   {
    "duration": 109,
    "start_time": "2023-01-26T23:16:52.858Z"
   },
   {
    "duration": 27,
    "start_time": "2023-01-26T23:17:31.020Z"
   },
   {
    "duration": 26,
    "start_time": "2023-01-26T23:17:39.115Z"
   },
   {
    "duration": 28,
    "start_time": "2023-01-26T23:18:53.325Z"
   },
   {
    "duration": 29,
    "start_time": "2023-01-26T23:20:24.027Z"
   },
   {
    "duration": 3,
    "start_time": "2023-01-26T23:42:39.187Z"
   },
   {
    "duration": 246,
    "start_time": "2023-01-26T23:44:09.224Z"
   },
   {
    "duration": 44,
    "start_time": "2023-01-26T23:44:10.821Z"
   },
   {
    "duration": 32,
    "start_time": "2023-01-26T23:50:14.853Z"
   },
   {
    "duration": 3,
    "start_time": "2023-01-26T23:50:18.123Z"
   },
   {
    "duration": 3,
    "start_time": "2023-01-26T23:50:18.468Z"
   },
   {
    "duration": 243,
    "start_time": "2023-01-26T23:50:19.402Z"
   },
   {
    "duration": 11,
    "start_time": "2023-01-26T23:50:40.119Z"
   },
   {
    "duration": 9,
    "start_time": "2023-01-27T00:00:46.720Z"
   },
   {
    "duration": 21,
    "start_time": "2023-01-27T00:00:48.875Z"
   },
   {
    "duration": 18,
    "start_time": "2023-01-27T00:00:49.289Z"
   },
   {
    "duration": 2,
    "start_time": "2023-01-27T00:00:54.723Z"
   },
   {
    "duration": 397,
    "start_time": "2023-01-27T00:00:54.727Z"
   },
   {
    "duration": 21,
    "start_time": "2023-01-27T00:00:55.126Z"
   },
   {
    "duration": 3,
    "start_time": "2023-01-27T00:00:55.149Z"
   },
   {
    "duration": 301,
    "start_time": "2023-01-27T00:00:55.154Z"
   },
   {
    "duration": 7,
    "start_time": "2023-01-27T00:00:55.457Z"
   },
   {
    "duration": 51,
    "start_time": "2023-01-27T00:00:55.465Z"
   },
   {
    "duration": 5,
    "start_time": "2023-01-27T00:00:55.517Z"
   },
   {
    "duration": 28,
    "start_time": "2023-01-27T00:00:55.523Z"
   },
   {
    "duration": 73,
    "start_time": "2023-01-27T00:00:55.553Z"
   },
   {
    "duration": 2,
    "start_time": "2023-01-27T00:00:55.628Z"
   },
   {
    "duration": 18,
    "start_time": "2023-01-27T00:00:55.631Z"
   },
   {
    "duration": 202,
    "start_time": "2023-01-27T00:00:55.650Z"
   },
   {
    "duration": 3,
    "start_time": "2023-01-27T00:00:55.854Z"
   },
   {
    "duration": 3,
    "start_time": "2023-01-27T00:12:36.638Z"
   },
   {
    "duration": 19,
    "start_time": "2023-01-27T00:12:36.873Z"
   },
   {
    "duration": 4,
    "start_time": "2023-01-27T00:12:47.198Z"
   },
   {
    "duration": 18,
    "start_time": "2023-01-27T00:12:47.471Z"
   },
   {
    "duration": 5,
    "start_time": "2023-01-27T00:12:48.162Z"
   },
   {
    "duration": 25,
    "start_time": "2023-01-27T00:12:56.188Z"
   },
   {
    "duration": 5,
    "start_time": "2023-01-27T00:12:59.043Z"
   },
   {
    "duration": 11838,
    "start_time": "2023-01-27T00:14:32.164Z"
   },
   {
    "duration": 5,
    "start_time": "2023-01-27T00:18:09.493Z"
   },
   {
    "duration": 14106,
    "start_time": "2023-01-27T00:22:06.287Z"
   },
   {
    "duration": 9030,
    "start_time": "2023-01-27T00:22:29.166Z"
   },
   {
    "duration": 9318,
    "start_time": "2023-01-27T00:23:36.475Z"
   },
   {
    "duration": 2,
    "start_time": "2023-01-27T00:26:12.587Z"
   },
   {
    "duration": 2,
    "start_time": "2023-01-27T00:26:15.549Z"
   },
   {
    "duration": 9058,
    "start_time": "2023-01-27T00:27:27.249Z"
   },
   {
    "duration": 4,
    "start_time": "2023-01-27T00:31:11.981Z"
   },
   {
    "duration": 17,
    "start_time": "2023-01-27T00:31:27.293Z"
   },
   {
    "duration": 4,
    "start_time": "2023-01-27T00:31:37.551Z"
   },
   {
    "duration": 4,
    "start_time": "2023-01-27T00:31:45.458Z"
   },
   {
    "duration": 4,
    "start_time": "2023-01-27T00:31:58.641Z"
   },
   {
    "duration": 11454,
    "start_time": "2023-01-27T00:37:11.941Z"
   },
   {
    "duration": 196,
    "start_time": "2023-01-27T00:37:23.396Z"
   },
   {
    "duration": 58,
    "start_time": "2023-01-27T00:40:48.440Z"
   },
   {
    "duration": 42,
    "start_time": "2023-01-27T00:40:59.652Z"
   },
   {
    "duration": 9541,
    "start_time": "2023-01-27T02:09:23.867Z"
   },
   {
    "duration": 9904,
    "start_time": "2023-01-27T02:09:44.707Z"
   },
   {
    "duration": 11773,
    "start_time": "2023-01-27T02:10:03.542Z"
   },
   {
    "duration": 14,
    "start_time": "2023-01-27T02:10:17.871Z"
   },
   {
    "duration": 17,
    "start_time": "2023-01-27T02:11:11.537Z"
   },
   {
    "duration": 17,
    "start_time": "2023-01-27T02:11:15.673Z"
   },
   {
    "duration": 19,
    "start_time": "2023-01-27T02:11:19.206Z"
   },
   {
    "duration": 9293,
    "start_time": "2023-01-27T02:12:31.206Z"
   },
   {
    "duration": 14,
    "start_time": "2023-01-27T02:13:07.452Z"
   },
   {
    "duration": 101,
    "start_time": "2023-01-27T02:13:27.506Z"
   },
   {
    "duration": 5,
    "start_time": "2023-01-27T02:14:31.548Z"
   },
   {
    "duration": 4,
    "start_time": "2023-01-27T02:14:36.996Z"
   },
   {
    "duration": 59,
    "start_time": "2023-01-27T02:14:52.236Z"
   },
   {
    "duration": 39,
    "start_time": "2023-01-27T02:15:11.777Z"
   },
   {
    "duration": 33,
    "start_time": "2023-01-27T02:15:19.463Z"
   },
   {
    "duration": 17,
    "start_time": "2023-01-27T02:20:05.048Z"
   },
   {
    "duration": 9554,
    "start_time": "2023-01-27T02:20:06.749Z"
   },
   {
    "duration": 18,
    "start_time": "2023-01-27T02:20:32.606Z"
   },
   {
    "duration": 20,
    "start_time": "2023-01-27T02:20:36.406Z"
   },
   {
    "duration": 9,
    "start_time": "2023-01-27T02:36:04.523Z"
   },
   {
    "duration": 13,
    "start_time": "2023-01-27T02:37:31.063Z"
   },
   {
    "duration": 20,
    "start_time": "2023-01-27T02:37:49.124Z"
   },
   {
    "duration": 52,
    "start_time": "2023-01-27T02:41:11.643Z"
   },
   {
    "duration": 21,
    "start_time": "2023-01-27T02:46:36.411Z"
   },
   {
    "duration": 20,
    "start_time": "2023-01-27T02:47:01.124Z"
   },
   {
    "duration": 18,
    "start_time": "2023-01-27T02:47:06.494Z"
   },
   {
    "duration": 2,
    "start_time": "2023-01-27T02:47:18.607Z"
   },
   {
    "duration": 406,
    "start_time": "2023-01-27T02:47:18.611Z"
   },
   {
    "duration": 19,
    "start_time": "2023-01-27T02:47:19.019Z"
   },
   {
    "duration": 3,
    "start_time": "2023-01-27T02:47:19.040Z"
   },
   {
    "duration": 316,
    "start_time": "2023-01-27T02:47:19.045Z"
   },
   {
    "duration": 7,
    "start_time": "2023-01-27T02:47:19.362Z"
   },
   {
    "duration": 41,
    "start_time": "2023-01-27T02:47:19.370Z"
   },
   {
    "duration": 4,
    "start_time": "2023-01-27T02:47:19.413Z"
   },
   {
    "duration": 10,
    "start_time": "2023-01-27T02:47:19.418Z"
   },
   {
    "duration": 56,
    "start_time": "2023-01-27T02:47:19.430Z"
   },
   {
    "duration": 12,
    "start_time": "2023-01-27T02:47:29.087Z"
   },
   {
    "duration": 12,
    "start_time": "2023-01-27T02:47:44.749Z"
   },
   {
    "duration": 11,
    "start_time": "2023-01-27T02:47:47.164Z"
   },
   {
    "duration": 3,
    "start_time": "2023-01-27T02:48:31.309Z"
   },
   {
    "duration": 429,
    "start_time": "2023-01-27T02:48:31.314Z"
   },
   {
    "duration": 18,
    "start_time": "2023-01-27T02:48:31.745Z"
   },
   {
    "duration": 3,
    "start_time": "2023-01-27T02:48:31.765Z"
   },
   {
    "duration": 299,
    "start_time": "2023-01-27T02:48:31.769Z"
   },
   {
    "duration": 7,
    "start_time": "2023-01-27T02:48:32.070Z"
   },
   {
    "duration": 41,
    "start_time": "2023-01-27T02:48:32.079Z"
   },
   {
    "duration": 5,
    "start_time": "2023-01-27T02:48:32.122Z"
   },
   {
    "duration": 21,
    "start_time": "2023-01-27T02:48:32.129Z"
   },
   {
    "duration": 65,
    "start_time": "2023-01-27T02:48:32.153Z"
   },
   {
    "duration": 3,
    "start_time": "2023-01-27T02:48:32.219Z"
   },
   {
    "duration": 6,
    "start_time": "2023-01-27T02:48:32.224Z"
   },
   {
    "duration": 217,
    "start_time": "2023-01-27T02:48:32.232Z"
   },
   {
    "duration": 3,
    "start_time": "2023-01-27T02:48:32.450Z"
   },
   {
    "duration": 8849,
    "start_time": "2023-01-27T02:48:32.455Z"
   },
   {
    "duration": 100,
    "start_time": "2023-01-27T02:48:41.310Z"
   },
   {
    "duration": 192,
    "start_time": "2023-01-27T02:48:41.413Z"
   },
   {
    "duration": 20,
    "start_time": "2023-01-27T02:48:41.804Z"
   },
   {
    "duration": 12,
    "start_time": "2023-01-27T02:48:43.239Z"
   },
   {
    "duration": 12,
    "start_time": "2023-01-27T02:51:30.706Z"
   },
   {
    "duration": 3,
    "start_time": "2023-01-27T02:51:35.160Z"
   },
   {
    "duration": 367,
    "start_time": "2023-01-27T02:51:35.164Z"
   },
   {
    "duration": 19,
    "start_time": "2023-01-27T02:51:35.533Z"
   },
   {
    "duration": 4,
    "start_time": "2023-01-27T02:51:35.554Z"
   },
   {
    "duration": 307,
    "start_time": "2023-01-27T02:51:35.559Z"
   },
   {
    "duration": 7,
    "start_time": "2023-01-27T02:51:35.867Z"
   },
   {
    "duration": 46,
    "start_time": "2023-01-27T02:51:35.875Z"
   },
   {
    "duration": 8,
    "start_time": "2023-01-27T02:51:35.924Z"
   },
   {
    "duration": 15,
    "start_time": "2023-01-27T02:51:35.933Z"
   },
   {
    "duration": 68,
    "start_time": "2023-01-27T02:51:35.951Z"
   },
   {
    "duration": 3,
    "start_time": "2023-01-27T02:51:36.021Z"
   },
   {
    "duration": 6,
    "start_time": "2023-01-27T02:51:36.025Z"
   },
   {
    "duration": 3,
    "start_time": "2023-01-27T02:51:37.282Z"
   },
   {
    "duration": 12,
    "start_time": "2023-01-27T02:51:38.050Z"
   },
   {
    "duration": 13,
    "start_time": "2023-01-27T02:51:42.808Z"
   },
   {
    "duration": 189,
    "start_time": "2023-01-27T02:51:48.274Z"
   },
   {
    "duration": 12,
    "start_time": "2023-01-27T02:51:49.167Z"
   },
   {
    "duration": 8,
    "start_time": "2023-01-27T02:52:23.640Z"
   },
   {
    "duration": 62,
    "start_time": "2023-01-27T02:52:43.580Z"
   },
   {
    "duration": 12,
    "start_time": "2023-01-27T02:52:50.335Z"
   },
   {
    "duration": 2,
    "start_time": "2023-01-27T02:53:07.040Z"
   },
   {
    "duration": 412,
    "start_time": "2023-01-27T02:53:07.044Z"
   },
   {
    "duration": 21,
    "start_time": "2023-01-27T02:53:07.458Z"
   },
   {
    "duration": 9,
    "start_time": "2023-01-27T02:53:07.497Z"
   },
   {
    "duration": 277,
    "start_time": "2023-01-27T02:53:07.508Z"
   },
   {
    "duration": 17,
    "start_time": "2023-01-27T02:53:07.787Z"
   },
   {
    "duration": 33,
    "start_time": "2023-01-27T02:53:07.806Z"
   },
   {
    "duration": 4,
    "start_time": "2023-01-27T02:53:07.840Z"
   },
   {
    "duration": 6,
    "start_time": "2023-01-27T02:53:07.846Z"
   },
   {
    "duration": 67,
    "start_time": "2023-01-27T02:53:07.854Z"
   },
   {
    "duration": 2,
    "start_time": "2023-01-27T02:53:07.923Z"
   },
   {
    "duration": 5,
    "start_time": "2023-01-27T02:53:07.927Z"
   },
   {
    "duration": 13,
    "start_time": "2023-01-27T02:53:12.738Z"
   },
   {
    "duration": 193,
    "start_time": "2023-01-27T02:53:15.616Z"
   },
   {
    "duration": 13,
    "start_time": "2023-01-27T02:53:16.363Z"
   },
   {
    "duration": 12,
    "start_time": "2023-01-27T02:53:19.413Z"
   },
   {
    "duration": 19,
    "start_time": "2023-01-27T02:53:34.433Z"
   },
   {
    "duration": 10,
    "start_time": "2023-01-27T02:53:36.461Z"
   },
   {
    "duration": 17,
    "start_time": "2023-01-27T02:53:44.096Z"
   },
   {
    "duration": 12,
    "start_time": "2023-01-27T02:54:15.432Z"
   },
   {
    "duration": 19,
    "start_time": "2023-01-27T02:54:18.441Z"
   },
   {
    "duration": 12,
    "start_time": "2023-01-27T02:54:18.926Z"
   },
   {
    "duration": 20,
    "start_time": "2023-01-27T02:54:19.834Z"
   },
   {
    "duration": 12,
    "start_time": "2023-01-27T02:54:20.383Z"
   },
   {
    "duration": 22,
    "start_time": "2023-01-27T02:54:21.273Z"
   },
   {
    "duration": 17,
    "start_time": "2023-01-27T02:54:21.692Z"
   },
   {
    "duration": 19,
    "start_time": "2023-01-27T02:54:22.538Z"
   },
   {
    "duration": 15,
    "start_time": "2023-01-27T02:54:22.843Z"
   },
   {
    "duration": 19,
    "start_time": "2023-01-27T02:54:23.764Z"
   },
   {
    "duration": 12,
    "start_time": "2023-01-27T02:54:24.106Z"
   },
   {
    "duration": 3,
    "start_time": "2023-01-27T02:54:50.440Z"
   },
   {
    "duration": 403,
    "start_time": "2023-01-27T02:54:50.445Z"
   },
   {
    "duration": 19,
    "start_time": "2023-01-27T02:54:50.850Z"
   },
   {
    "duration": 4,
    "start_time": "2023-01-27T02:54:50.871Z"
   },
   {
    "duration": 332,
    "start_time": "2023-01-27T02:54:50.876Z"
   },
   {
    "duration": 7,
    "start_time": "2023-01-27T02:54:51.210Z"
   },
   {
    "duration": 36,
    "start_time": "2023-01-27T02:54:51.219Z"
   },
   {
    "duration": 4,
    "start_time": "2023-01-27T02:54:51.257Z"
   },
   {
    "duration": 14,
    "start_time": "2023-01-27T02:54:51.263Z"
   },
   {
    "duration": 61,
    "start_time": "2023-01-27T02:54:51.279Z"
   },
   {
    "duration": 3,
    "start_time": "2023-01-27T02:54:51.341Z"
   },
   {
    "duration": 7,
    "start_time": "2023-01-27T02:54:51.345Z"
   },
   {
    "duration": 22,
    "start_time": "2023-01-27T02:54:51.353Z"
   },
   {
    "duration": 225,
    "start_time": "2023-01-27T02:54:51.376Z"
   },
   {
    "duration": 6,
    "start_time": "2023-01-27T02:54:51.603Z"
   },
   {
    "duration": 9606,
    "start_time": "2023-01-27T02:54:51.610Z"
   },
   {
    "duration": 103,
    "start_time": "2023-01-27T02:55:01.304Z"
   },
   {
    "duration": 286,
    "start_time": "2023-01-27T02:55:01.409Z"
   },
   {
    "duration": 123,
    "start_time": "2023-01-27T02:55:01.699Z"
   },
   {
    "duration": 16,
    "start_time": "2023-01-27T02:55:01.824Z"
   },
   {
    "duration": 2,
    "start_time": "2023-01-27T02:57:46.021Z"
   },
   {
    "duration": 408,
    "start_time": "2023-01-27T02:57:46.025Z"
   },
   {
    "duration": 21,
    "start_time": "2023-01-27T02:57:46.435Z"
   },
   {
    "duration": 5,
    "start_time": "2023-01-27T02:57:46.458Z"
   },
   {
    "duration": 310,
    "start_time": "2023-01-27T02:57:46.465Z"
   },
   {
    "duration": 6,
    "start_time": "2023-01-27T02:57:46.776Z"
   },
   {
    "duration": 46,
    "start_time": "2023-01-27T02:57:46.784Z"
   },
   {
    "duration": 4,
    "start_time": "2023-01-27T02:57:46.832Z"
   },
   {
    "duration": 12,
    "start_time": "2023-01-27T02:57:46.838Z"
   },
   {
    "duration": 2,
    "start_time": "2023-01-27T02:57:48.666Z"
   },
   {
    "duration": 52,
    "start_time": "2023-01-27T02:57:49.102Z"
   },
   {
    "duration": 3,
    "start_time": "2023-01-27T02:57:51.455Z"
   },
   {
    "duration": 5,
    "start_time": "2023-01-27T02:57:55.100Z"
   },
   {
    "duration": 9400,
    "start_time": "2023-01-27T02:58:01.002Z"
   },
   {
    "duration": 15,
    "start_time": "2023-01-27T02:58:17.124Z"
   },
   {
    "duration": 21,
    "start_time": "2023-01-27T02:58:46.409Z"
   },
   {
    "duration": 2,
    "start_time": "2023-01-27T02:59:08.216Z"
   },
   {
    "duration": 371,
    "start_time": "2023-01-27T02:59:08.220Z"
   },
   {
    "duration": 22,
    "start_time": "2023-01-27T02:59:08.600Z"
   },
   {
    "duration": 3,
    "start_time": "2023-01-27T02:59:08.624Z"
   },
   {
    "duration": 300,
    "start_time": "2023-01-27T02:59:08.628Z"
   },
   {
    "duration": 7,
    "start_time": "2023-01-27T02:59:08.930Z"
   },
   {
    "duration": 35,
    "start_time": "2023-01-27T02:59:08.938Z"
   },
   {
    "duration": 4,
    "start_time": "2023-01-27T02:59:08.975Z"
   },
   {
    "duration": 11,
    "start_time": "2023-01-27T02:59:08.995Z"
   },
   {
    "duration": 60,
    "start_time": "2023-01-27T02:59:09.008Z"
   },
   {
    "duration": 55,
    "start_time": "2023-01-27T02:59:10.155Z"
   },
   {
    "duration": 2,
    "start_time": "2023-01-27T02:59:11.942Z"
   },
   {
    "duration": 3,
    "start_time": "2023-01-27T02:59:12.212Z"
   },
   {
    "duration": 206,
    "start_time": "2023-01-27T02:59:12.471Z"
   },
   {
    "duration": 3,
    "start_time": "2023-01-27T03:00:28.545Z"
   },
   {
    "duration": 393,
    "start_time": "2023-01-27T03:00:28.550Z"
   },
   {
    "duration": 20,
    "start_time": "2023-01-27T03:00:28.945Z"
   },
   {
    "duration": 3,
    "start_time": "2023-01-27T03:00:28.966Z"
   },
   {
    "duration": 317,
    "start_time": "2023-01-27T03:00:28.972Z"
   },
   {
    "duration": 19,
    "start_time": "2023-01-27T03:00:29.291Z"
   },
   {
    "duration": 27,
    "start_time": "2023-01-27T03:00:29.311Z"
   },
   {
    "duration": 4,
    "start_time": "2023-01-27T03:00:29.339Z"
   },
   {
    "duration": 6,
    "start_time": "2023-01-27T03:00:29.345Z"
   },
   {
    "duration": 70,
    "start_time": "2023-01-27T03:00:29.353Z"
   },
   {
    "duration": 2,
    "start_time": "2023-01-27T03:00:29.425Z"
   },
   {
    "duration": 9,
    "start_time": "2023-01-27T03:00:29.429Z"
   },
   {
    "duration": 216,
    "start_time": "2023-01-27T03:00:29.440Z"
   },
   {
    "duration": 3,
    "start_time": "2023-01-27T03:00:29.658Z"
   },
   {
    "duration": 9837,
    "start_time": "2023-01-27T03:00:29.662Z"
   },
   {
    "duration": 104,
    "start_time": "2023-01-27T03:00:39.503Z"
   },
   {
    "duration": 201,
    "start_time": "2023-01-27T03:00:39.609Z"
   },
   {
    "duration": 164,
    "start_time": "2023-01-27T03:00:39.896Z"
   },
   {
    "duration": 10,
    "start_time": "2023-01-27T03:01:44.322Z"
   },
   {
    "duration": 10,
    "start_time": "2023-01-27T03:03:45.538Z"
   },
   {
    "duration": 2,
    "start_time": "2023-01-27T03:06:54.974Z"
   },
   {
    "duration": 399,
    "start_time": "2023-01-27T03:06:54.978Z"
   },
   {
    "duration": 26,
    "start_time": "2023-01-27T03:06:55.378Z"
   },
   {
    "duration": 4,
    "start_time": "2023-01-27T03:06:55.406Z"
   },
   {
    "duration": 299,
    "start_time": "2023-01-27T03:06:55.411Z"
   },
   {
    "duration": 6,
    "start_time": "2023-01-27T03:06:55.712Z"
   },
   {
    "duration": 32,
    "start_time": "2023-01-27T03:06:55.720Z"
   },
   {
    "duration": 4,
    "start_time": "2023-01-27T03:06:55.754Z"
   },
   {
    "duration": 9,
    "start_time": "2023-01-27T03:06:55.759Z"
   },
   {
    "duration": 69,
    "start_time": "2023-01-27T03:06:55.770Z"
   },
   {
    "duration": 2,
    "start_time": "2023-01-27T03:06:55.841Z"
   },
   {
    "duration": 5,
    "start_time": "2023-01-27T03:06:55.845Z"
   },
   {
    "duration": 227,
    "start_time": "2023-01-27T03:06:55.851Z"
   },
   {
    "duration": 3,
    "start_time": "2023-01-27T03:06:56.080Z"
   },
   {
    "duration": 8806,
    "start_time": "2023-01-27T03:06:56.095Z"
   },
   {
    "duration": 101,
    "start_time": "2023-01-27T03:07:04.903Z"
   },
   {
    "duration": 207,
    "start_time": "2023-01-27T03:07:05.006Z"
   },
   {
    "duration": 229,
    "start_time": "2023-01-27T03:07:05.215Z"
   },
   {
    "duration": 10,
    "start_time": "2023-01-27T03:07:07.044Z"
   },
   {
    "duration": 22,
    "start_time": "2023-01-27T03:07:13.286Z"
   },
   {
    "duration": 20,
    "start_time": "2023-01-27T03:07:53.420Z"
   },
   {
    "duration": 20,
    "start_time": "2023-01-27T03:08:24.554Z"
   },
   {
    "duration": 2,
    "start_time": "2023-01-27T03:08:30.411Z"
   },
   {
    "duration": 407,
    "start_time": "2023-01-27T03:08:30.415Z"
   },
   {
    "duration": 19,
    "start_time": "2023-01-27T03:08:30.823Z"
   },
   {
    "duration": 17,
    "start_time": "2023-01-27T03:08:30.844Z"
   },
   {
    "duration": 340,
    "start_time": "2023-01-27T03:08:30.863Z"
   },
   {
    "duration": 7,
    "start_time": "2023-01-27T03:08:31.205Z"
   },
   {
    "duration": 53,
    "start_time": "2023-01-27T03:08:31.213Z"
   },
   {
    "duration": 3,
    "start_time": "2023-01-27T03:08:31.268Z"
   },
   {
    "duration": 15,
    "start_time": "2023-01-27T03:08:31.273Z"
   },
   {
    "duration": 2,
    "start_time": "2023-01-27T03:08:33.319Z"
   },
   {
    "duration": 53,
    "start_time": "2023-01-27T03:08:33.982Z"
   },
   {
    "duration": 4,
    "start_time": "2023-01-27T03:08:41.563Z"
   },
   {
    "duration": 9016,
    "start_time": "2023-01-27T03:08:42.177Z"
   },
   {
    "duration": 108,
    "start_time": "2023-01-27T03:08:51.195Z"
   },
   {
    "duration": 188,
    "start_time": "2023-01-27T03:08:51.305Z"
   },
   {
    "duration": 21,
    "start_time": "2023-01-27T03:08:57.084Z"
   },
   {
    "duration": 19,
    "start_time": "2023-01-27T03:09:03.452Z"
   },
   {
    "duration": 2,
    "start_time": "2023-01-27T03:09:44.668Z"
   },
   {
    "duration": 412,
    "start_time": "2023-01-27T03:09:44.672Z"
   },
   {
    "duration": 31,
    "start_time": "2023-01-27T03:09:45.086Z"
   },
   {
    "duration": 2,
    "start_time": "2023-01-27T03:09:45.119Z"
   },
   {
    "duration": 315,
    "start_time": "2023-01-27T03:09:45.124Z"
   },
   {
    "duration": 8,
    "start_time": "2023-01-27T03:09:45.441Z"
   },
   {
    "duration": 51,
    "start_time": "2023-01-27T03:09:45.451Z"
   },
   {
    "duration": 5,
    "start_time": "2023-01-27T03:09:45.504Z"
   },
   {
    "duration": 6,
    "start_time": "2023-01-27T03:09:45.510Z"
   },
   {
    "duration": 52,
    "start_time": "2023-01-27T03:09:45.517Z"
   },
   {
    "duration": 2,
    "start_time": "2023-01-27T03:09:45.571Z"
   },
   {
    "duration": 4,
    "start_time": "2023-01-27T03:09:45.575Z"
   },
   {
    "duration": 21,
    "start_time": "2023-01-27T03:09:45.581Z"
   },
   {
    "duration": 12,
    "start_time": "2023-01-27T03:09:45.604Z"
   },
   {
    "duration": 9993,
    "start_time": "2023-01-27T03:09:45.617Z"
   },
   {
    "duration": 186,
    "start_time": "2023-01-27T03:09:55.612Z"
   },
   {
    "duration": 199,
    "start_time": "2023-01-27T03:09:55.803Z"
   },
   {
    "duration": 89,
    "start_time": "2023-01-27T03:09:56.009Z"
   },
   {
    "duration": 141,
    "start_time": "2023-01-27T03:09:56.100Z"
   },
   {
    "duration": 18,
    "start_time": "2023-01-27T03:10:02.240Z"
   },
   {
    "duration": 3,
    "start_time": "2023-01-27T03:14:19.147Z"
   },
   {
    "duration": 392,
    "start_time": "2023-01-27T03:14:19.151Z"
   },
   {
    "duration": 19,
    "start_time": "2023-01-27T03:14:19.545Z"
   },
   {
    "duration": 3,
    "start_time": "2023-01-27T03:14:19.565Z"
   },
   {
    "duration": 292,
    "start_time": "2023-01-27T03:14:19.570Z"
   },
   {
    "duration": 6,
    "start_time": "2023-01-27T03:14:19.863Z"
   },
   {
    "duration": 43,
    "start_time": "2023-01-27T03:14:19.871Z"
   },
   {
    "duration": 4,
    "start_time": "2023-01-27T03:14:19.916Z"
   },
   {
    "duration": 7,
    "start_time": "2023-01-27T03:14:19.922Z"
   },
   {
    "duration": 57,
    "start_time": "2023-01-27T03:14:19.930Z"
   },
   {
    "duration": 4,
    "start_time": "2023-01-27T03:14:19.988Z"
   },
   {
    "duration": 17,
    "start_time": "2023-01-27T03:14:19.993Z"
   },
   {
    "duration": 2,
    "start_time": "2023-01-27T03:14:22.126Z"
   },
   {
    "duration": 193,
    "start_time": "2023-01-27T03:14:22.560Z"
   },
   {
    "duration": 3,
    "start_time": "2023-01-27T03:14:27.752Z"
   },
   {
    "duration": 8927,
    "start_time": "2023-01-27T03:14:30.183Z"
   },
   {
    "duration": 95,
    "start_time": "2023-01-27T03:14:39.112Z"
   },
   {
    "duration": 285,
    "start_time": "2023-01-27T03:14:39.208Z"
   },
   {
    "duration": 4,
    "start_time": "2023-01-27T03:15:10.621Z"
   },
   {
    "duration": 7,
    "start_time": "2023-01-27T03:18:17.630Z"
   },
   {
    "duration": 8,
    "start_time": "2023-01-27T03:18:35.676Z"
   },
   {
    "duration": 15,
    "start_time": "2023-01-27T03:19:31.688Z"
   },
   {
    "duration": 49,
    "start_time": "2023-01-27T03:19:32.925Z"
   },
   {
    "duration": 11,
    "start_time": "2023-01-27T03:19:33.578Z"
   },
   {
    "duration": 2,
    "start_time": "2023-01-27T03:19:39.173Z"
   },
   {
    "duration": 372,
    "start_time": "2023-01-27T03:19:39.177Z"
   },
   {
    "duration": 19,
    "start_time": "2023-01-27T03:19:39.551Z"
   },
   {
    "duration": 3,
    "start_time": "2023-01-27T03:19:39.572Z"
   },
   {
    "duration": 288,
    "start_time": "2023-01-27T03:19:39.577Z"
   },
   {
    "duration": 7,
    "start_time": "2023-01-27T03:19:39.866Z"
   },
   {
    "duration": 41,
    "start_time": "2023-01-27T03:19:39.874Z"
   },
   {
    "duration": 4,
    "start_time": "2023-01-27T03:19:39.916Z"
   },
   {
    "duration": 7,
    "start_time": "2023-01-27T03:19:39.922Z"
   },
   {
    "duration": 47,
    "start_time": "2023-01-27T03:19:39.930Z"
   },
   {
    "duration": 13,
    "start_time": "2023-01-27T03:19:39.991Z"
   },
   {
    "duration": 15,
    "start_time": "2023-01-27T03:19:40.006Z"
   },
   {
    "duration": 230,
    "start_time": "2023-01-27T03:19:40.024Z"
   },
   {
    "duration": 2,
    "start_time": "2023-01-27T03:19:40.257Z"
   },
   {
    "duration": 9553,
    "start_time": "2023-01-27T03:19:40.261Z"
   },
   {
    "duration": 90,
    "start_time": "2023-01-27T03:19:49.815Z"
   },
   {
    "duration": 298,
    "start_time": "2023-01-27T03:19:49.909Z"
   },
   {
    "duration": 14,
    "start_time": "2023-01-27T03:19:50.319Z"
   },
   {
    "duration": 87,
    "start_time": "2023-01-27T03:19:50.335Z"
   },
   {
    "duration": 13,
    "start_time": "2023-01-27T03:19:50.776Z"
   },
   {
    "duration": 96,
    "start_time": "2023-01-27T03:20:32.689Z"
   },
   {
    "duration": 12,
    "start_time": "2023-01-27T03:20:33.749Z"
   },
   {
    "duration": 20,
    "start_time": "2023-01-27T03:21:27.117Z"
   },
   {
    "duration": 3,
    "start_time": "2023-01-27T03:21:30.015Z"
   },
   {
    "duration": 393,
    "start_time": "2023-01-27T03:21:30.020Z"
   },
   {
    "duration": 20,
    "start_time": "2023-01-27T03:21:30.414Z"
   },
   {
    "duration": 7,
    "start_time": "2023-01-27T03:21:30.436Z"
   },
   {
    "duration": 327,
    "start_time": "2023-01-27T03:21:30.444Z"
   },
   {
    "duration": 7,
    "start_time": "2023-01-27T03:21:30.772Z"
   },
   {
    "duration": 80,
    "start_time": "2023-01-27T03:21:30.780Z"
   },
   {
    "duration": 19,
    "start_time": "2023-01-27T03:21:30.861Z"
   },
   {
    "duration": 31,
    "start_time": "2023-01-27T03:21:30.882Z"
   },
   {
    "duration": 62,
    "start_time": "2023-01-27T03:21:30.916Z"
   },
   {
    "duration": 3,
    "start_time": "2023-01-27T03:21:30.980Z"
   },
   {
    "duration": 21,
    "start_time": "2023-01-27T03:21:30.984Z"
   },
   {
    "duration": 237,
    "start_time": "2023-01-27T03:21:31.007Z"
   },
   {
    "duration": 3,
    "start_time": "2023-01-27T03:21:31.246Z"
   },
   {
    "duration": 9153,
    "start_time": "2023-01-27T03:21:31.250Z"
   },
   {
    "duration": 102,
    "start_time": "2023-01-27T03:21:40.408Z"
   },
   {
    "duration": 105,
    "start_time": "2023-01-27T03:21:40.512Z"
   },
   {
    "duration": 18,
    "start_time": "2023-01-27T03:21:40.697Z"
   },
   {
    "duration": 166,
    "start_time": "2023-01-27T03:21:40.717Z"
   },
   {
    "duration": 25,
    "start_time": "2023-01-27T03:21:40.885Z"
   },
   {
    "duration": 28,
    "start_time": "2023-01-27T03:21:43.457Z"
   },
   {
    "duration": 3,
    "start_time": "2023-01-29T22:22:01.460Z"
   },
   {
    "duration": 1841,
    "start_time": "2023-01-29T22:22:01.466Z"
   },
   {
    "duration": 21,
    "start_time": "2023-01-29T22:22:03.309Z"
   },
   {
    "duration": 7,
    "start_time": "2023-01-29T22:22:03.332Z"
   },
   {
    "duration": 344,
    "start_time": "2023-01-29T22:22:03.340Z"
   },
   {
    "duration": 11,
    "start_time": "2023-01-29T22:22:03.686Z"
   },
   {
    "duration": 55,
    "start_time": "2023-01-29T22:22:03.699Z"
   },
   {
    "duration": 25,
    "start_time": "2023-01-29T22:22:03.756Z"
   },
   {
    "duration": 6,
    "start_time": "2023-01-29T22:22:03.783Z"
   },
   {
    "duration": 118,
    "start_time": "2023-01-29T22:22:03.791Z"
   },
   {
    "duration": 3,
    "start_time": "2023-01-29T22:22:03.911Z"
   },
   {
    "duration": 37,
    "start_time": "2023-01-29T22:22:03.916Z"
   },
   {
    "duration": 214,
    "start_time": "2023-01-29T22:22:03.955Z"
   },
   {
    "duration": 3,
    "start_time": "2023-01-29T22:22:04.171Z"
   },
   {
    "duration": 8719,
    "start_time": "2023-01-29T22:22:04.176Z"
   },
   {
    "duration": 99,
    "start_time": "2023-01-29T22:22:12.897Z"
   },
   {
    "duration": 298,
    "start_time": "2023-01-29T22:22:12.998Z"
   },
   {
    "duration": 19,
    "start_time": "2023-01-29T22:22:13.398Z"
   },
   {
    "duration": 101,
    "start_time": "2023-01-29T22:22:13.418Z"
   },
   {
    "duration": 18,
    "start_time": "2023-01-29T22:22:26.013Z"
   },
   {
    "duration": 12,
    "start_time": "2023-01-29T22:24:00.174Z"
   },
   {
    "duration": 3,
    "start_time": "2023-01-29T22:24:06.125Z"
   },
   {
    "duration": 426,
    "start_time": "2023-01-29T22:24:06.131Z"
   },
   {
    "duration": 21,
    "start_time": "2023-01-29T22:24:06.559Z"
   },
   {
    "duration": 3,
    "start_time": "2023-01-29T22:24:06.582Z"
   },
   {
    "duration": 321,
    "start_time": "2023-01-29T22:24:06.593Z"
   },
   {
    "duration": 8,
    "start_time": "2023-01-29T22:24:06.915Z"
   },
   {
    "duration": 31,
    "start_time": "2023-01-29T22:24:06.925Z"
   },
   {
    "duration": 5,
    "start_time": "2023-01-29T22:24:06.957Z"
   },
   {
    "duration": 6,
    "start_time": "2023-01-29T22:24:06.963Z"
   },
   {
    "duration": 63,
    "start_time": "2023-01-29T22:24:06.991Z"
   },
   {
    "duration": 3,
    "start_time": "2023-01-29T22:24:07.056Z"
   },
   {
    "duration": 6,
    "start_time": "2023-01-29T22:24:07.060Z"
   },
   {
    "duration": 248,
    "start_time": "2023-01-29T22:24:07.068Z"
   },
   {
    "duration": 3,
    "start_time": "2023-01-29T22:24:07.318Z"
   },
   {
    "duration": 8773,
    "start_time": "2023-01-29T22:24:07.322Z"
   },
   {
    "duration": 193,
    "start_time": "2023-01-29T22:24:16.099Z"
   },
   {
    "duration": 125,
    "start_time": "2023-01-29T22:24:16.294Z"
   },
   {
    "duration": 82,
    "start_time": "2023-01-29T22:24:16.421Z"
   },
   {
    "duration": 181,
    "start_time": "2023-01-29T22:24:16.511Z"
   },
   {
    "duration": 13,
    "start_time": "2023-01-29T22:24:19.576Z"
   },
   {
    "duration": 20,
    "start_time": "2023-01-29T22:24:38.350Z"
   },
   {
    "duration": 2,
    "start_time": "2023-01-29T22:24:58.450Z"
   },
   {
    "duration": 388,
    "start_time": "2023-01-29T22:24:58.454Z"
   },
   {
    "duration": 19,
    "start_time": "2023-01-29T22:24:58.844Z"
   },
   {
    "duration": 3,
    "start_time": "2023-01-29T22:24:58.865Z"
   },
   {
    "duration": 310,
    "start_time": "2023-01-29T22:24:58.869Z"
   },
   {
    "duration": 24,
    "start_time": "2023-01-29T22:24:59.180Z"
   },
   {
    "duration": 31,
    "start_time": "2023-01-29T22:24:59.206Z"
   },
   {
    "duration": 4,
    "start_time": "2023-01-29T22:24:59.238Z"
   },
   {
    "duration": 2,
    "start_time": "2023-01-29T22:25:01.175Z"
   },
   {
    "duration": 48,
    "start_time": "2023-01-29T22:25:01.729Z"
   },
   {
    "duration": 3,
    "start_time": "2023-01-29T22:25:04.370Z"
   },
   {
    "duration": 3,
    "start_time": "2023-01-29T22:25:14.855Z"
   },
   {
    "duration": 9774,
    "start_time": "2023-01-29T22:25:15.522Z"
   },
   {
    "duration": 113,
    "start_time": "2023-01-29T22:25:25.300Z"
   },
   {
    "duration": 220,
    "start_time": "2023-01-29T22:25:27.078Z"
   },
   {
    "duration": 12,
    "start_time": "2023-01-29T22:25:41.987Z"
   },
   {
    "duration": 12,
    "start_time": "2023-01-29T22:25:44.464Z"
   },
   {
    "duration": 21,
    "start_time": "2023-01-29T22:26:02.624Z"
   },
   {
    "duration": 4,
    "start_time": "2023-01-29T22:27:32.502Z"
   },
   {
    "duration": 9285,
    "start_time": "2023-01-29T22:27:33.508Z"
   },
   {
    "duration": 15,
    "start_time": "2023-01-29T22:28:14.565Z"
   },
   {
    "duration": 25,
    "start_time": "2023-01-29T22:28:24.678Z"
   },
   {
    "duration": 228,
    "start_time": "2023-01-29T22:34:02.163Z"
   },
   {
    "duration": 67,
    "start_time": "2023-01-29T22:34:09.225Z"
   },
   {
    "duration": 5,
    "start_time": "2023-01-29T22:34:15.628Z"
   },
   {
    "duration": 16,
    "start_time": "2023-01-29T22:34:34.822Z"
   },
   {
    "duration": 110,
    "start_time": "2023-01-29T22:34:36.883Z"
   },
   {
    "duration": 20,
    "start_time": "2023-01-29T22:35:41.145Z"
   },
   {
    "duration": 90,
    "start_time": "2023-01-29T22:40:23.657Z"
   },
   {
    "duration": 3,
    "start_time": "2023-01-29T22:48:17.378Z"
   },
   {
    "duration": 4,
    "start_time": "2023-01-29T22:51:10.102Z"
   },
   {
    "duration": 2,
    "start_time": "2023-01-29T23:36:26.797Z"
   },
   {
    "duration": 3,
    "start_time": "2023-01-29T23:36:37.504Z"
   },
   {
    "duration": 4,
    "start_time": "2023-01-29T23:36:41.379Z"
   },
   {
    "duration": 4,
    "start_time": "2023-01-29T23:36:58.593Z"
   },
   {
    "duration": 3,
    "start_time": "2023-01-29T23:37:43.957Z"
   },
   {
    "duration": 4,
    "start_time": "2023-01-29T23:39:05.845Z"
   },
   {
    "duration": 73,
    "start_time": "2023-01-29T23:39:25.806Z"
   },
   {
    "duration": 3,
    "start_time": "2023-01-29T23:39:28.458Z"
   },
   {
    "duration": 4,
    "start_time": "2023-01-29T23:39:31.650Z"
   },
   {
    "duration": 3,
    "start_time": "2023-01-29T23:44:13.624Z"
   },
   {
    "duration": 6,
    "start_time": "2023-01-29T23:45:05.978Z"
   },
   {
    "duration": 3,
    "start_time": "2023-01-29T23:45:51.671Z"
   },
   {
    "duration": 8,
    "start_time": "2023-01-29T23:47:18.524Z"
   },
   {
    "duration": 5,
    "start_time": "2023-01-29T23:50:05.412Z"
   },
   {
    "duration": 5,
    "start_time": "2023-01-29T23:56:11.400Z"
   },
   {
    "duration": 4,
    "start_time": "2023-01-29T23:56:42.854Z"
   },
   {
    "duration": 5,
    "start_time": "2023-01-29T23:56:51.248Z"
   },
   {
    "duration": 9,
    "start_time": "2023-01-30T00:00:14.154Z"
   },
   {
    "duration": 8,
    "start_time": "2023-01-30T00:00:50.909Z"
   },
   {
    "duration": 9,
    "start_time": "2023-01-30T00:04:43.899Z"
   },
   {
    "duration": 5,
    "start_time": "2023-01-30T00:10:52.205Z"
   },
   {
    "duration": 7,
    "start_time": "2023-01-30T00:11:53.563Z"
   },
   {
    "duration": 6,
    "start_time": "2023-01-30T00:12:05.475Z"
   },
   {
    "duration": 7,
    "start_time": "2023-01-30T00:12:10.320Z"
   },
   {
    "duration": 7,
    "start_time": "2023-01-30T00:12:19.597Z"
   },
   {
    "duration": 8,
    "start_time": "2023-01-30T00:12:45.943Z"
   },
   {
    "duration": 7,
    "start_time": "2023-01-30T00:18:34.060Z"
   },
   {
    "duration": 7,
    "start_time": "2023-01-30T00:18:45.280Z"
   },
   {
    "duration": 99,
    "start_time": "2023-01-30T00:18:51.523Z"
   },
   {
    "duration": 4,
    "start_time": "2023-01-30T00:18:55.009Z"
   },
   {
    "duration": 4,
    "start_time": "2023-01-30T00:19:19.903Z"
   },
   {
    "duration": 4,
    "start_time": "2023-01-30T00:19:23.104Z"
   },
   {
    "duration": 5,
    "start_time": "2023-01-30T00:20:31.702Z"
   },
   {
    "duration": 13,
    "start_time": "2023-01-30T00:20:36.871Z"
   },
   {
    "duration": 19,
    "start_time": "2023-01-30T00:21:00.031Z"
   },
   {
    "duration": 4,
    "start_time": "2023-01-30T00:21:05.436Z"
   },
   {
    "duration": 13,
    "start_time": "2023-01-30T00:21:07.100Z"
   },
   {
    "duration": 27,
    "start_time": "2023-01-30T00:21:30.364Z"
   },
   {
    "duration": 5,
    "start_time": "2023-01-30T00:21:43.454Z"
   },
   {
    "duration": 179,
    "start_time": "2023-01-30T00:24:17.316Z"
   },
   {
    "duration": 2,
    "start_time": "2023-01-30T00:24:24.244Z"
   },
   {
    "duration": 368,
    "start_time": "2023-01-30T00:24:24.248Z"
   },
   {
    "duration": 21,
    "start_time": "2023-01-30T00:24:24.617Z"
   },
   {
    "duration": 10,
    "start_time": "2023-01-30T00:24:24.640Z"
   },
   {
    "duration": 289,
    "start_time": "2023-01-30T00:24:24.652Z"
   },
   {
    "duration": 6,
    "start_time": "2023-01-30T00:24:24.943Z"
   },
   {
    "duration": 42,
    "start_time": "2023-01-30T00:24:24.951Z"
   },
   {
    "duration": 4,
    "start_time": "2023-01-30T00:24:24.995Z"
   },
   {
    "duration": 4,
    "start_time": "2023-01-30T00:24:25.001Z"
   },
   {
    "duration": 52,
    "start_time": "2023-01-30T00:24:25.007Z"
   },
   {
    "duration": 3,
    "start_time": "2023-01-30T00:24:25.061Z"
   },
   {
    "duration": 12131,
    "start_time": "2023-01-30T00:24:25.066Z"
   },
   {
    "duration": 101,
    "start_time": "2023-01-30T00:24:37.199Z"
   },
   {
    "duration": 1198,
    "start_time": "2023-01-30T00:25:05.243Z"
   },
   {
    "duration": 3,
    "start_time": "2023-01-30T00:25:09.082Z"
   },
   {
    "duration": 369,
    "start_time": "2023-01-30T00:25:09.086Z"
   },
   {
    "duration": 22,
    "start_time": "2023-01-30T00:25:09.456Z"
   },
   {
    "duration": 4,
    "start_time": "2023-01-30T00:25:09.480Z"
   },
   {
    "duration": 277,
    "start_time": "2023-01-30T00:25:09.493Z"
   },
   {
    "duration": 7,
    "start_time": "2023-01-30T00:25:09.772Z"
   },
   {
    "duration": 26,
    "start_time": "2023-01-30T00:25:09.792Z"
   },
   {
    "duration": 4,
    "start_time": "2023-01-30T00:25:09.819Z"
   },
   {
    "duration": 18,
    "start_time": "2023-01-30T00:25:09.824Z"
   },
   {
    "duration": 53,
    "start_time": "2023-01-30T00:25:09.844Z"
   },
   {
    "duration": 3,
    "start_time": "2023-01-30T00:25:09.899Z"
   },
   {
    "duration": 11491,
    "start_time": "2023-01-30T00:25:09.904Z"
   },
   {
    "duration": 198,
    "start_time": "2023-01-30T00:25:21.397Z"
   },
   {
    "duration": 205,
    "start_time": "2023-01-30T00:25:21.691Z"
   },
   {
    "duration": 81,
    "start_time": "2023-01-30T00:25:39.212Z"
   },
   {
    "duration": 35,
    "start_time": "2023-01-30T00:26:01.669Z"
   },
   {
    "duration": 172,
    "start_time": "2023-01-30T00:26:06.922Z"
   },
   {
    "duration": 12,
    "start_time": "2023-01-30T00:26:12.304Z"
   },
   {
    "duration": 90,
    "start_time": "2023-01-30T00:26:42.404Z"
   },
   {
    "duration": 3,
    "start_time": "2023-01-30T00:26:52.301Z"
   },
   {
    "duration": 362,
    "start_time": "2023-01-30T00:26:52.306Z"
   },
   {
    "duration": 22,
    "start_time": "2023-01-30T00:26:52.670Z"
   },
   {
    "duration": 2,
    "start_time": "2023-01-30T00:26:52.694Z"
   },
   {
    "duration": 279,
    "start_time": "2023-01-30T00:26:52.698Z"
   },
   {
    "duration": 6,
    "start_time": "2023-01-30T00:26:52.978Z"
   },
   {
    "duration": 29,
    "start_time": "2023-01-30T00:26:52.992Z"
   },
   {
    "duration": 4,
    "start_time": "2023-01-30T00:26:53.023Z"
   },
   {
    "duration": 9,
    "start_time": "2023-01-30T00:26:53.029Z"
   },
   {
    "duration": 59,
    "start_time": "2023-01-30T00:26:53.040Z"
   },
   {
    "duration": 3,
    "start_time": "2023-01-30T00:26:53.101Z"
   },
   {
    "duration": 11591,
    "start_time": "2023-01-30T00:26:53.106Z"
   },
   {
    "duration": 194,
    "start_time": "2023-01-30T00:27:04.699Z"
   },
   {
    "duration": 298,
    "start_time": "2023-01-30T00:27:04.897Z"
   },
   {
    "duration": 20,
    "start_time": "2023-01-30T00:27:27.670Z"
   },
   {
    "duration": 3,
    "start_time": "2023-01-30T00:27:51.434Z"
   },
   {
    "duration": 3,
    "start_time": "2023-01-30T00:27:52.864Z"
   },
   {
    "duration": 4,
    "start_time": "2023-01-30T00:27:55.760Z"
   },
   {
    "duration": 3,
    "start_time": "2023-01-30T00:27:57.475Z"
   },
   {
    "duration": 8,
    "start_time": "2023-01-30T00:28:04.426Z"
   },
   {
    "duration": 10,
    "start_time": "2023-01-30T00:28:27.559Z"
   },
   {
    "duration": 15,
    "start_time": "2023-01-30T00:28:36.705Z"
   },
   {
    "duration": 1191,
    "start_time": "2023-01-30T00:29:06.264Z"
   },
   {
    "duration": 13,
    "start_time": "2023-01-30T00:29:11.605Z"
   },
   {
    "duration": 8,
    "start_time": "2023-01-30T00:29:15.988Z"
   },
   {
    "duration": 7,
    "start_time": "2023-01-30T00:30:56.229Z"
   },
   {
    "duration": 13,
    "start_time": "2023-01-30T00:31:12.015Z"
   },
   {
    "duration": 12,
    "start_time": "2023-01-30T00:31:25.925Z"
   },
   {
    "duration": 10,
    "start_time": "2023-01-30T00:31:31.241Z"
   },
   {
    "duration": 13,
    "start_time": "2023-01-30T00:33:24.019Z"
   },
   {
    "duration": 14,
    "start_time": "2023-01-30T00:33:34.055Z"
   },
   {
    "duration": 18,
    "start_time": "2023-01-30T00:34:11.252Z"
   },
   {
    "duration": 16,
    "start_time": "2023-01-30T00:34:26.015Z"
   },
   {
    "duration": 17,
    "start_time": "2023-01-30T00:34:29.652Z"
   },
   {
    "duration": 18,
    "start_time": "2023-01-30T00:34:50.393Z"
   },
   {
    "duration": 18,
    "start_time": "2023-01-30T00:36:25.263Z"
   },
   {
    "duration": 19,
    "start_time": "2023-01-30T00:37:48.751Z"
   },
   {
    "duration": 19,
    "start_time": "2023-01-30T00:40:59.387Z"
   },
   {
    "duration": 3,
    "start_time": "2023-01-30T00:58:17.922Z"
   },
   {
    "duration": 18,
    "start_time": "2023-01-30T00:58:35.279Z"
   },
   {
    "duration": 16,
    "start_time": "2023-01-30T00:58:40.875Z"
   },
   {
    "duration": 3,
    "start_time": "2023-01-30T01:00:00.154Z"
   },
   {
    "duration": 3,
    "start_time": "2023-01-30T01:00:01.201Z"
   },
   {
    "duration": 4,
    "start_time": "2023-01-30T01:00:05.905Z"
   },
   {
    "duration": 3,
    "start_time": "2023-01-30T01:02:18.656Z"
   },
   {
    "duration": 2,
    "start_time": "2023-01-30T01:02:20.791Z"
   },
   {
    "duration": 3,
    "start_time": "2023-01-30T01:03:17.734Z"
   },
   {
    "duration": 3,
    "start_time": "2023-01-30T01:04:07.485Z"
   },
   {
    "duration": 2,
    "start_time": "2023-01-30T01:06:04.334Z"
   },
   {
    "duration": 2,
    "start_time": "2023-01-30T01:06:07.980Z"
   },
   {
    "duration": 640,
    "start_time": "2023-01-30T01:09:02.783Z"
   },
   {
    "duration": 247,
    "start_time": "2023-01-30T01:09:17.216Z"
   },
   {
    "duration": 14,
    "start_time": "2023-01-30T01:09:32.618Z"
   },
   {
    "duration": 1270,
    "start_time": "2023-01-30T01:09:47.608Z"
   },
   {
    "duration": 6,
    "start_time": "2023-01-30T01:09:59.122Z"
   },
   {
    "duration": 5,
    "start_time": "2023-01-30T01:10:20.624Z"
   },
   {
    "duration": 274,
    "start_time": "2023-01-30T01:10:27.279Z"
   },
   {
    "duration": 5,
    "start_time": "2023-01-30T01:10:43.951Z"
   },
   {
    "duration": 1296,
    "start_time": "2023-01-30T01:11:33.968Z"
   },
   {
    "duration": 1328,
    "start_time": "2023-01-30T01:11:35.266Z"
   },
   {
    "duration": 4,
    "start_time": "2023-01-30T01:11:38.559Z"
   },
   {
    "duration": 4,
    "start_time": "2023-01-30T01:11:43.702Z"
   },
   {
    "duration": 1295,
    "start_time": "2023-01-30T01:11:53.654Z"
   },
   {
    "duration": 1361,
    "start_time": "2023-01-30T01:11:54.951Z"
   },
   {
    "duration": 1328,
    "start_time": "2023-01-30T01:11:56.314Z"
   },
   {
    "duration": 5,
    "start_time": "2023-01-30T01:11:58.427Z"
   },
   {
    "duration": 5,
    "start_time": "2023-01-30T01:12:13.360Z"
   },
   {
    "duration": 4,
    "start_time": "2023-01-30T01:13:05.706Z"
   },
   {
    "duration": 3,
    "start_time": "2023-01-30T01:13:08.477Z"
   },
   {
    "duration": 3,
    "start_time": "2023-01-30T01:13:15.808Z"
   },
   {
    "duration": 3,
    "start_time": "2023-01-30T01:13:48.778Z"
   },
   {
    "duration": 8,
    "start_time": "2023-01-30T01:13:53.596Z"
   },
   {
    "duration": 18,
    "start_time": "2023-01-30T01:14:50.018Z"
   },
   {
    "duration": 3,
    "start_time": "2023-01-30T01:16:30.056Z"
   },
   {
    "duration": 3,
    "start_time": "2023-01-30T01:16:33.479Z"
   },
   {
    "duration": 3,
    "start_time": "2023-01-30T01:16:55.951Z"
   },
   {
    "duration": 3,
    "start_time": "2023-01-30T01:16:59.133Z"
   },
   {
    "duration": 1345,
    "start_time": "2023-01-30T01:17:00.872Z"
   },
   {
    "duration": 1335,
    "start_time": "2023-01-30T01:17:02.219Z"
   },
   {
    "duration": 1309,
    "start_time": "2023-01-30T01:17:03.555Z"
   },
   {
    "duration": 6,
    "start_time": "2023-01-30T01:17:16.922Z"
   },
   {
    "duration": 1361,
    "start_time": "2023-01-30T01:17:26.169Z"
   },
   {
    "duration": 1287,
    "start_time": "2023-01-30T01:17:27.531Z"
   },
   {
    "duration": 1292,
    "start_time": "2023-01-30T01:17:28.820Z"
   },
   {
    "duration": 4,
    "start_time": "2023-01-30T01:17:31.249Z"
   },
   {
    "duration": 1315,
    "start_time": "2023-01-30T01:17:35.305Z"
   },
   {
    "duration": 1302,
    "start_time": "2023-01-30T01:17:36.622Z"
   },
   {
    "duration": 1334,
    "start_time": "2023-01-30T01:17:37.926Z"
   },
   {
    "duration": 4,
    "start_time": "2023-01-30T01:17:40.786Z"
   },
   {
    "duration": 5,
    "start_time": "2023-01-30T01:17:46.762Z"
   },
   {
    "duration": 3,
    "start_time": "2023-01-30T01:17:48.994Z"
   },
   {
    "duration": 1311,
    "start_time": "2023-01-30T01:17:50.153Z"
   },
   {
    "duration": 5,
    "start_time": "2023-01-30T01:17:53.038Z"
   },
   {
    "duration": 3,
    "start_time": "2023-01-30T01:17:54.417Z"
   },
   {
    "duration": 5,
    "start_time": "2023-01-30T01:17:55.497Z"
   },
   {
    "duration": 3,
    "start_time": "2023-01-30T01:17:56.847Z"
   },
   {
    "duration": 1254,
    "start_time": "2023-01-30T01:17:57.714Z"
   },
   {
    "duration": 6,
    "start_time": "2023-01-30T01:17:59.665Z"
   },
   {
    "duration": 4,
    "start_time": "2023-01-30T01:18:03.466Z"
   },
   {
    "duration": 10,
    "start_time": "2023-01-30T01:18:14.088Z"
   },
   {
    "duration": 183,
    "start_time": "2023-01-30T01:18:19.427Z"
   },
   {
    "duration": 1355,
    "start_time": "2023-01-30T01:18:35.667Z"
   },
   {
    "duration": 1301,
    "start_time": "2023-01-30T01:18:37.024Z"
   },
   {
    "duration": 9,
    "start_time": "2023-01-30T01:18:47.028Z"
   },
   {
    "duration": 183,
    "start_time": "2023-01-30T01:18:51.889Z"
   },
   {
    "duration": 5,
    "start_time": "2023-01-30T01:20:08.621Z"
   },
   {
    "duration": 6,
    "start_time": "2023-01-30T01:22:34.437Z"
   },
   {
    "duration": 7,
    "start_time": "2023-01-30T01:22:40.710Z"
   },
   {
    "duration": 4,
    "start_time": "2023-01-30T01:35:11.320Z"
   },
   {
    "duration": 3,
    "start_time": "2023-01-30T01:35:37.468Z"
   },
   {
    "duration": 3,
    "start_time": "2023-01-30T01:36:28.569Z"
   },
   {
    "duration": 3,
    "start_time": "2023-01-30T01:38:11.627Z"
   },
   {
    "duration": 1275,
    "start_time": "2023-01-30T01:38:13.137Z"
   },
   {
    "duration": 6,
    "start_time": "2023-01-30T01:38:14.734Z"
   },
   {
    "duration": 2,
    "start_time": "2023-01-30T01:38:16.409Z"
   },
   {
    "duration": 1280,
    "start_time": "2023-01-30T01:38:18.713Z"
   },
   {
    "duration": 5,
    "start_time": "2023-01-30T01:38:20.589Z"
   },
   {
    "duration": 2,
    "start_time": "2023-01-30T01:39:50.045Z"
   },
   {
    "duration": 3,
    "start_time": "2023-01-30T01:39:50.740Z"
   },
   {
    "duration": 1294,
    "start_time": "2023-01-30T01:39:51.971Z"
   },
   {
    "duration": 4,
    "start_time": "2023-01-30T01:39:54.993Z"
   },
   {
    "duration": 3,
    "start_time": "2023-01-30T01:39:57.266Z"
   },
   {
    "duration": 1285,
    "start_time": "2023-01-30T01:39:58.264Z"
   },
   {
    "duration": 6,
    "start_time": "2023-01-30T01:40:00.675Z"
   },
   {
    "duration": 9,
    "start_time": "2023-01-30T01:41:14.778Z"
   },
   {
    "duration": 4,
    "start_time": "2023-01-30T01:41:20.583Z"
   },
   {
    "duration": 1273,
    "start_time": "2023-01-30T01:41:22.694Z"
   },
   {
    "duration": 5,
    "start_time": "2023-01-30T01:41:27.126Z"
   },
   {
    "duration": 1306,
    "start_time": "2023-01-30T01:41:30.304Z"
   },
   {
    "duration": 5,
    "start_time": "2023-01-30T01:41:32.668Z"
   },
   {
    "duration": 1278,
    "start_time": "2023-01-30T01:41:34.202Z"
   },
   {
    "duration": 4,
    "start_time": "2023-01-30T01:41:37.229Z"
   },
   {
    "duration": 1258,
    "start_time": "2023-01-30T01:41:39.359Z"
   },
   {
    "duration": 4,
    "start_time": "2023-01-30T01:41:41.796Z"
   },
   {
    "duration": 1309,
    "start_time": "2023-01-30T01:41:43.028Z"
   },
   {
    "duration": 5,
    "start_time": "2023-01-30T01:41:45.204Z"
   },
   {
    "duration": 3,
    "start_time": "2023-01-30T01:41:53.574Z"
   },
   {
    "duration": 1313,
    "start_time": "2023-01-30T01:41:54.880Z"
   },
   {
    "duration": 5,
    "start_time": "2023-01-30T01:41:57.330Z"
   },
   {
    "duration": 1300,
    "start_time": "2023-01-30T01:41:58.832Z"
   },
   {
    "duration": 4,
    "start_time": "2023-01-30T01:42:01.309Z"
   },
   {
    "duration": 4,
    "start_time": "2023-01-30T01:48:23.844Z"
   },
   {
    "duration": 4,
    "start_time": "2023-01-30T01:50:50.759Z"
   },
   {
    "duration": 3,
    "start_time": "2023-01-30T02:17:36.650Z"
   },
   {
    "duration": 4,
    "start_time": "2023-01-30T02:18:19.896Z"
   },
   {
    "duration": 944,
    "start_time": "2023-01-30T02:19:08.714Z"
   },
   {
    "duration": 6,
    "start_time": "2023-01-30T02:19:26.140Z"
   },
   {
    "duration": 6,
    "start_time": "2023-01-30T02:19:56.946Z"
   },
   {
    "duration": 4,
    "start_time": "2023-01-30T02:20:16.236Z"
   },
   {
    "duration": 6,
    "start_time": "2023-01-30T02:20:38.288Z"
   },
   {
    "duration": 4,
    "start_time": "2023-01-30T02:20:44.575Z"
   },
   {
    "duration": 2683,
    "start_time": "2023-01-30T02:21:00.198Z"
   },
   {
    "duration": 4,
    "start_time": "2023-01-30T02:21:21.950Z"
   },
   {
    "duration": 4,
    "start_time": "2023-01-30T02:21:22.534Z"
   },
   {
    "duration": 4,
    "start_time": "2023-01-30T02:21:23.480Z"
   },
   {
    "duration": 4,
    "start_time": "2023-01-30T02:21:36.447Z"
   },
   {
    "duration": 5,
    "start_time": "2023-01-30T02:21:36.927Z"
   },
   {
    "duration": 5,
    "start_time": "2023-01-30T02:21:37.905Z"
   },
   {
    "duration": 3,
    "start_time": "2023-01-30T02:25:52.431Z"
   },
   {
    "duration": 27012,
    "start_time": "2023-01-30T02:26:45.235Z"
   },
   {
    "duration": 3,
    "start_time": "2023-01-30T02:34:16.814Z"
   },
   {
    "duration": 5,
    "start_time": "2023-01-30T02:34:19.108Z"
   },
   {
    "duration": 5,
    "start_time": "2023-01-30T02:34:20.688Z"
   },
   {
    "duration": 5,
    "start_time": "2023-01-30T02:34:22.945Z"
   },
   {
    "duration": 5,
    "start_time": "2023-01-30T02:34:25.816Z"
   },
   {
    "duration": 4,
    "start_time": "2023-01-30T02:34:26.270Z"
   },
   {
    "duration": 4,
    "start_time": "2023-01-30T02:34:38.404Z"
   },
   {
    "duration": 5,
    "start_time": "2023-01-30T02:34:41.825Z"
   },
   {
    "duration": 5,
    "start_time": "2023-01-30T02:34:44.864Z"
   },
   {
    "duration": 5,
    "start_time": "2023-01-30T02:34:50.475Z"
   },
   {
    "duration": 5,
    "start_time": "2023-01-30T02:34:53.949Z"
   },
   {
    "duration": 5,
    "start_time": "2023-01-30T02:35:02.024Z"
   },
   {
    "duration": 5,
    "start_time": "2023-01-30T02:40:43.162Z"
   },
   {
    "duration": 5,
    "start_time": "2023-01-30T02:40:55.764Z"
   },
   {
    "duration": 6,
    "start_time": "2023-01-30T02:41:20.958Z"
   },
   {
    "duration": 4,
    "start_time": "2023-01-30T02:56:37.375Z"
   },
   {
    "duration": 76,
    "start_time": "2023-01-30T02:56:42.054Z"
   },
   {
    "duration": 5,
    "start_time": "2023-01-30T02:57:14.438Z"
   },
   {
    "duration": 94,
    "start_time": "2023-01-30T02:58:18.978Z"
   },
   {
    "duration": 69,
    "start_time": "2023-01-30T02:58:32.153Z"
   },
   {
    "duration": 66,
    "start_time": "2023-01-30T02:58:39.247Z"
   },
   {
    "duration": 6,
    "start_time": "2023-01-30T02:58:42.156Z"
   },
   {
    "duration": 4,
    "start_time": "2023-01-30T02:58:50.892Z"
   },
   {
    "duration": 5,
    "start_time": "2023-01-30T02:58:59.835Z"
   },
   {
    "duration": 63,
    "start_time": "2023-01-30T02:59:19.122Z"
   },
   {
    "duration": 73,
    "start_time": "2023-01-30T02:59:23.017Z"
   },
   {
    "duration": 76,
    "start_time": "2023-01-30T02:59:26.188Z"
   },
   {
    "duration": 73,
    "start_time": "2023-01-30T02:59:29.306Z"
   },
   {
    "duration": 72,
    "start_time": "2023-01-30T02:59:36.509Z"
   },
   {
    "duration": 80,
    "start_time": "2023-01-30T03:00:35.311Z"
   },
   {
    "duration": 71,
    "start_time": "2023-01-30T03:00:46.440Z"
   },
   {
    "duration": 8,
    "start_time": "2023-01-30T03:00:52.878Z"
   },
   {
    "duration": 8,
    "start_time": "2023-01-30T03:02:10.771Z"
   },
   {
    "duration": 10,
    "start_time": "2023-01-30T03:02:43.462Z"
   },
   {
    "duration": 9,
    "start_time": "2023-01-30T03:03:37.104Z"
   },
   {
    "duration": 4,
    "start_time": "2023-01-30T03:08:03.520Z"
   },
   {
    "duration": 5,
    "start_time": "2023-01-30T03:10:28.934Z"
   },
   {
    "duration": 6,
    "start_time": "2023-01-30T03:11:28.740Z"
   },
   {
    "duration": 188,
    "start_time": "2023-01-30T03:27:26.837Z"
   },
   {
    "duration": 178,
    "start_time": "2023-01-30T03:27:30.676Z"
   },
   {
    "duration": 188,
    "start_time": "2023-01-30T03:27:36.459Z"
   },
   {
    "duration": 352,
    "start_time": "2023-01-30T03:27:49.523Z"
   },
   {
    "duration": 347,
    "start_time": "2023-01-30T03:27:54.313Z"
   },
   {
    "duration": 459,
    "start_time": "2023-01-30T03:27:57.435Z"
   },
   {
    "duration": 375,
    "start_time": "2023-01-30T03:28:05.191Z"
   },
   {
    "duration": 377,
    "start_time": "2023-01-30T03:29:28.376Z"
   },
   {
    "duration": 359,
    "start_time": "2023-01-30T03:29:31.520Z"
   },
   {
    "duration": 516,
    "start_time": "2023-01-30T03:29:52.771Z"
   },
   {
    "duration": 360,
    "start_time": "2023-01-30T03:30:15.509Z"
   },
   {
    "duration": 379,
    "start_time": "2023-01-30T03:30:21.623Z"
   },
   {
    "duration": 374,
    "start_time": "2023-01-30T03:30:52.772Z"
   },
   {
    "duration": 519,
    "start_time": "2023-01-30T03:31:00.883Z"
   },
   {
    "duration": 360,
    "start_time": "2023-01-30T03:31:09.074Z"
   },
   {
    "duration": 272,
    "start_time": "2023-01-30T03:32:57.590Z"
   },
   {
    "duration": 273,
    "start_time": "2023-01-30T03:33:11.939Z"
   },
   {
    "duration": 302,
    "start_time": "2023-01-30T03:34:13.901Z"
   },
   {
    "duration": 467,
    "start_time": "2023-01-30T03:34:23.036Z"
   },
   {
    "duration": 285,
    "start_time": "2023-01-30T03:34:45.389Z"
   },
   {
    "duration": 4,
    "start_time": "2023-01-30T03:37:07.371Z"
   },
   {
    "duration": 2893,
    "start_time": "2023-01-30T03:37:08.826Z"
   },
   {
    "duration": 309,
    "start_time": "2023-01-30T03:37:13.674Z"
   },
   {
    "duration": 321,
    "start_time": "2023-01-30T03:37:16.611Z"
   },
   {
    "duration": 292,
    "start_time": "2023-01-30T03:37:17.485Z"
   },
   {
    "duration": 4,
    "start_time": "2023-01-30T03:37:46.189Z"
   },
   {
    "duration": 2858,
    "start_time": "2023-01-30T03:37:46.544Z"
   },
   {
    "duration": 448,
    "start_time": "2023-01-30T03:37:50.223Z"
   },
   {
    "duration": 4,
    "start_time": "2023-01-30T03:38:08.155Z"
   },
   {
    "duration": 2792,
    "start_time": "2023-01-30T03:38:08.712Z"
   },
   {
    "duration": 306,
    "start_time": "2023-01-30T03:38:11.506Z"
   },
   {
    "duration": 281,
    "start_time": "2023-01-30T03:38:11.815Z"
   },
   {
    "duration": 277,
    "start_time": "2023-01-30T03:38:12.098Z"
   },
   {
    "duration": 279,
    "start_time": "2023-01-30T03:38:22.715Z"
   },
   {
    "duration": 5,
    "start_time": "2023-01-30T03:38:23.730Z"
   },
   {
    "duration": 11,
    "start_time": "2023-01-30T03:39:20.086Z"
   },
   {
    "duration": 3,
    "start_time": "2023-01-30T03:39:42.663Z"
   },
   {
    "duration": 7,
    "start_time": "2023-01-30T03:39:43.246Z"
   },
   {
    "duration": 8,
    "start_time": "2023-01-30T03:39:53.329Z"
   },
   {
    "duration": 410,
    "start_time": "2023-01-30T03:48:30.002Z"
   },
   {
    "duration": 386,
    "start_time": "2023-01-30T03:48:30.415Z"
   },
   {
    "duration": 29,
    "start_time": "2023-01-30T03:48:30.803Z"
   },
   {
    "duration": 810,
    "start_time": "2023-01-30T03:48:30.834Z"
   },
   {
    "duration": 313,
    "start_time": "2023-01-30T03:48:31.646Z"
   },
   {
    "duration": 8,
    "start_time": "2023-01-30T03:48:31.961Z"
   },
   {
    "duration": 51,
    "start_time": "2023-01-30T03:48:31.971Z"
   },
   {
    "duration": 7,
    "start_time": "2023-01-30T03:48:32.024Z"
   },
   {
    "duration": 271,
    "start_time": "2023-01-30T03:48:32.032Z"
   },
   {
    "duration": 64,
    "start_time": "2023-01-30T03:48:32.305Z"
   },
   {
    "duration": 31,
    "start_time": "2023-01-30T03:48:32.371Z"
   },
   {
    "duration": 10311,
    "start_time": "2023-01-30T03:48:32.403Z"
   },
   {
    "duration": 103,
    "start_time": "2023-01-30T03:48:42.797Z"
   },
   {
    "duration": 597,
    "start_time": "2023-01-30T03:48:42.909Z"
   },
   {
    "duration": 277,
    "start_time": "2023-01-30T03:48:43.510Z"
   },
   {
    "duration": 0,
    "start_time": "2023-01-30T03:48:43.789Z"
   },
   {
    "duration": 0,
    "start_time": "2023-01-30T03:48:43.792Z"
   },
   {
    "duration": 0,
    "start_time": "2023-01-30T03:48:43.794Z"
   },
   {
    "duration": 0,
    "start_time": "2023-01-30T03:48:43.795Z"
   },
   {
    "duration": 0,
    "start_time": "2023-01-30T03:48:43.800Z"
   },
   {
    "duration": 0,
    "start_time": "2023-01-30T03:48:43.801Z"
   },
   {
    "duration": 0,
    "start_time": "2023-01-30T03:48:43.802Z"
   },
   {
    "duration": 0,
    "start_time": "2023-01-30T03:48:43.804Z"
   },
   {
    "duration": 0,
    "start_time": "2023-01-30T03:48:43.805Z"
   },
   {
    "duration": 0,
    "start_time": "2023-01-30T03:48:43.807Z"
   },
   {
    "duration": 0,
    "start_time": "2023-01-30T03:48:43.808Z"
   },
   {
    "duration": 0,
    "start_time": "2023-01-30T03:48:43.810Z"
   },
   {
    "duration": 0,
    "start_time": "2023-01-30T03:48:43.811Z"
   },
   {
    "duration": 0,
    "start_time": "2023-01-30T03:48:43.812Z"
   },
   {
    "duration": 0,
    "start_time": "2023-01-30T03:48:43.814Z"
   },
   {
    "duration": 5,
    "start_time": "2023-01-30T03:48:46.378Z"
   },
   {
    "duration": 11,
    "start_time": "2023-01-30T03:48:47.735Z"
   },
   {
    "duration": 9,
    "start_time": "2023-01-30T03:48:50.266Z"
   },
   {
    "duration": 29,
    "start_time": "2023-01-30T03:50:01.269Z"
   },
   {
    "duration": 451,
    "start_time": "2023-01-30T03:50:19.742Z"
   },
   {
    "duration": 380,
    "start_time": "2023-01-30T03:50:20.195Z"
   },
   {
    "duration": 36,
    "start_time": "2023-01-30T03:50:20.576Z"
   },
   {
    "duration": 823,
    "start_time": "2023-01-30T03:50:20.614Z"
   },
   {
    "duration": 327,
    "start_time": "2023-01-30T03:50:21.439Z"
   },
   {
    "duration": 7,
    "start_time": "2023-01-30T03:50:21.767Z"
   },
   {
    "duration": 39,
    "start_time": "2023-01-30T03:50:21.791Z"
   },
   {
    "duration": 7,
    "start_time": "2023-01-30T03:50:21.832Z"
   },
   {
    "duration": 251,
    "start_time": "2023-01-30T03:50:21.841Z"
   },
   {
    "duration": 51,
    "start_time": "2023-01-30T03:50:22.094Z"
   },
   {
    "duration": 23,
    "start_time": "2023-01-30T03:50:22.147Z"
   },
   {
    "duration": 11227,
    "start_time": "2023-01-30T03:50:22.172Z"
   },
   {
    "duration": 109,
    "start_time": "2023-01-30T03:50:33.401Z"
   },
   {
    "duration": 482,
    "start_time": "2023-01-30T03:50:33.513Z"
   },
   {
    "duration": 104,
    "start_time": "2023-01-30T03:50:33.996Z"
   },
   {
    "duration": 6,
    "start_time": "2023-01-30T03:50:34.102Z"
   },
   {
    "duration": 99,
    "start_time": "2023-01-30T03:50:34.110Z"
   },
   {
    "duration": 10,
    "start_time": "2023-01-30T03:50:34.212Z"
   },
   {
    "duration": 12,
    "start_time": "2023-01-30T03:50:34.225Z"
   },
   {
    "duration": 31,
    "start_time": "2023-01-30T03:50:34.240Z"
   },
   {
    "duration": 4,
    "start_time": "2023-01-30T03:50:34.273Z"
   },
   {
    "duration": 18,
    "start_time": "2023-01-30T03:50:34.279Z"
   },
   {
    "duration": 10,
    "start_time": "2023-01-30T03:50:34.299Z"
   },
   {
    "duration": 3001,
    "start_time": "2023-01-30T03:50:34.311Z"
   },
   {
    "duration": 309,
    "start_time": "2023-01-30T03:50:37.313Z"
   },
   {
    "duration": 304,
    "start_time": "2023-01-30T03:50:37.624Z"
   },
   {
    "duration": 377,
    "start_time": "2023-01-30T03:50:37.931Z"
   },
   {
    "duration": 6,
    "start_time": "2023-01-30T03:50:38.310Z"
   },
   {
    "duration": 14,
    "start_time": "2023-01-30T03:50:38.318Z"
   },
   {
    "duration": 5,
    "start_time": "2023-01-30T03:50:38.334Z"
   },
   {
    "duration": 4,
    "start_time": "2023-01-30T03:50:42.883Z"
   },
   {
    "duration": 9,
    "start_time": "2023-01-30T03:50:43.499Z"
   },
   {
    "duration": 473,
    "start_time": "2023-01-30T07:07:30.917Z"
   },
   {
    "duration": 420,
    "start_time": "2023-01-30T07:07:31.392Z"
   },
   {
    "duration": 28,
    "start_time": "2023-01-30T07:07:31.814Z"
   },
   {
    "duration": 767,
    "start_time": "2023-01-30T07:07:31.844Z"
   },
   {
    "duration": 325,
    "start_time": "2023-01-30T07:07:32.613Z"
   },
   {
    "duration": 15,
    "start_time": "2023-01-30T07:07:32.940Z"
   },
   {
    "duration": 48,
    "start_time": "2023-01-30T07:07:32.957Z"
   },
   {
    "duration": 5,
    "start_time": "2023-01-30T07:07:33.007Z"
   },
   {
    "duration": 672,
    "start_time": "2023-01-30T07:07:33.013Z"
   },
   {
    "duration": 44,
    "start_time": "2023-01-30T07:07:33.689Z"
   },
   {
    "duration": 28,
    "start_time": "2023-01-30T07:07:33.735Z"
   },
   {
    "duration": 14093,
    "start_time": "2023-01-30T07:07:33.765Z"
   },
   {
    "duration": 197,
    "start_time": "2023-01-30T07:07:47.861Z"
   },
   {
    "duration": 402,
    "start_time": "2023-01-30T07:07:48.060Z"
   },
   {
    "duration": 196,
    "start_time": "2023-01-30T07:07:48.464Z"
   },
   {
    "duration": 8,
    "start_time": "2023-01-30T07:07:48.662Z"
   },
   {
    "duration": 24,
    "start_time": "2023-01-30T07:07:48.672Z"
   },
   {
    "duration": 38,
    "start_time": "2023-01-30T07:07:48.697Z"
   },
   {
    "duration": 23,
    "start_time": "2023-01-30T07:07:48.736Z"
   },
   {
    "duration": 36,
    "start_time": "2023-01-30T07:07:48.761Z"
   },
   {
    "duration": 5,
    "start_time": "2023-01-30T07:07:48.799Z"
   },
   {
    "duration": 19,
    "start_time": "2023-01-30T07:07:48.806Z"
   },
   {
    "duration": 8,
    "start_time": "2023-01-30T07:07:48.826Z"
   },
   {
    "duration": 2634,
    "start_time": "2023-01-30T07:07:48.836Z"
   },
   {
    "duration": 312,
    "start_time": "2023-01-30T07:07:51.472Z"
   },
   {
    "duration": 303,
    "start_time": "2023-01-30T07:07:51.785Z"
   },
   {
    "duration": 375,
    "start_time": "2023-01-30T07:07:52.089Z"
   },
   {
    "duration": 7,
    "start_time": "2023-01-30T07:07:52.466Z"
   },
   {
    "duration": 13,
    "start_time": "2023-01-30T07:07:52.474Z"
   },
   {
    "duration": 5,
    "start_time": "2023-01-30T07:07:52.488Z"
   },
   {
    "duration": 11,
    "start_time": "2023-01-30T07:07:52.495Z"
   },
   {
    "duration": 4,
    "start_time": "2023-01-30T07:32:58.149Z"
   },
   {
    "duration": 14,
    "start_time": "2023-01-30T07:40:22.396Z"
   },
   {
    "duration": 412,
    "start_time": "2023-01-30T07:46:51.594Z"
   },
   {
    "duration": 397,
    "start_time": "2023-01-30T07:46:52.009Z"
   },
   {
    "duration": 26,
    "start_time": "2023-01-30T07:46:52.407Z"
   },
   {
    "duration": 804,
    "start_time": "2023-01-30T07:46:52.435Z"
   },
   {
    "duration": 297,
    "start_time": "2023-01-30T07:46:53.241Z"
   },
   {
    "duration": 17,
    "start_time": "2023-01-30T07:46:53.540Z"
   },
   {
    "duration": 56,
    "start_time": "2023-01-30T07:46:53.558Z"
   },
   {
    "duration": 6,
    "start_time": "2023-01-30T07:46:53.617Z"
   },
   {
    "duration": 714,
    "start_time": "2023-01-30T07:46:53.625Z"
   },
   {
    "duration": 46,
    "start_time": "2023-01-30T07:46:54.341Z"
   },
   {
    "duration": 26,
    "start_time": "2023-01-30T07:46:54.389Z"
   },
   {
    "duration": 12743,
    "start_time": "2023-01-30T07:46:54.417Z"
   },
   {
    "duration": 196,
    "start_time": "2023-01-30T07:47:07.165Z"
   },
   {
    "duration": 396,
    "start_time": "2023-01-30T07:47:07.368Z"
   },
   {
    "duration": 191,
    "start_time": "2023-01-30T07:47:07.768Z"
   },
   {
    "duration": 3,
    "start_time": "2023-01-30T07:47:07.962Z"
   },
   {
    "duration": 10,
    "start_time": "2023-01-30T07:47:07.967Z"
   },
   {
    "duration": 12,
    "start_time": "2023-01-30T07:47:07.978Z"
   },
   {
    "duration": 13,
    "start_time": "2023-01-30T07:47:07.992Z"
   },
   {
    "duration": 22,
    "start_time": "2023-01-30T07:47:08.006Z"
   },
   {
    "duration": 4,
    "start_time": "2023-01-30T07:47:08.030Z"
   },
   {
    "duration": 28,
    "start_time": "2023-01-30T07:47:08.035Z"
   },
   {
    "duration": 10,
    "start_time": "2023-01-30T07:47:08.065Z"
   },
   {
    "duration": 2643,
    "start_time": "2023-01-30T07:47:08.076Z"
   },
   {
    "duration": 316,
    "start_time": "2023-01-30T07:47:10.720Z"
   },
   {
    "duration": 291,
    "start_time": "2023-01-30T07:47:11.037Z"
   },
   {
    "duration": 404,
    "start_time": "2023-01-30T07:47:11.330Z"
   },
   {
    "duration": 15,
    "start_time": "2023-01-30T07:47:11.738Z"
   },
   {
    "duration": 11,
    "start_time": "2023-01-30T07:47:11.755Z"
   },
   {
    "duration": 4,
    "start_time": "2023-01-30T07:47:11.768Z"
   },
   {
    "duration": 9,
    "start_time": "2023-01-30T07:47:11.774Z"
   }
  ],
  "kernelspec": {
   "display_name": "Python 3 (ipykernel)",
   "language": "python",
   "name": "python3"
  },
  "language_info": {
   "codemirror_mode": {
    "name": "ipython",
    "version": 3
   },
   "file_extension": ".py",
   "mimetype": "text/x-python",
   "name": "python",
   "nbconvert_exporter": "python",
   "pygments_lexer": "ipython3",
   "version": "3.9.13"
  },
  "toc": {
   "base_numbering": 1,
   "nav_menu": {},
   "number_sections": true,
   "sideBar": true,
   "skip_h1_title": true,
   "title_cell": "Table of Contents",
   "title_sidebar": "Contents",
   "toc_cell": false,
   "toc_position": {
    "height": "calc(100% - 180px)",
    "left": "10px",
    "top": "150px",
    "width": "356.594px"
   },
   "toc_section_display": true,
   "toc_window_display": true
  },
  "varInspector": {
   "cols": {
    "lenName": 16,
    "lenType": 16,
    "lenVar": 40
   },
   "kernels_config": {
    "python": {
     "delete_cmd_postfix": "",
     "delete_cmd_prefix": "del ",
     "library": "var_list.py",
     "varRefreshCmd": "print(var_dic_list())"
    },
    "r": {
     "delete_cmd_postfix": ") ",
     "delete_cmd_prefix": "rm(",
     "library": "var_list.r",
     "varRefreshCmd": "cat(var_dic_list()) "
    }
   },
   "types_to_exclude": [
    "module",
    "function",
    "builtin_function_or_method",
    "instance",
    "_Feature"
   ],
   "window_display": false
  }
 },
 "nbformat": 4,
 "nbformat_minor": 2
}
